{
 "cells": [
  {
   "cell_type": "code",
   "execution_count": 127,
   "metadata": {
    "collapsed": true
   },
   "outputs": [],
   "source": [
    "import pandas as pd\n",
    "import numpy as np\n",
    "import matplotlib.pyplot as plt\n",
    "import seaborn as sns\n",
    "%matplotlib inline"
   ]
  },
  {
   "cell_type": "code",
   "execution_count": 128,
   "metadata": {
    "collapsed": false
   },
   "outputs": [
    {
     "data": {
      "text/html": [
       "<div>\n",
       "<table border=\"1\" class=\"dataframe\">\n",
       "  <thead>\n",
       "    <tr style=\"text-align: right;\">\n",
       "      <th></th>\n",
       "      <th>merchant_id</th>\n",
       "      <th>latitude</th>\n",
       "      <th>longitude</th>\n",
       "      <th>real_transaction_dttm</th>\n",
       "      <th>record_delay</th>\n",
       "      <th>is_in_area</th>\n",
       "    </tr>\n",
       "  </thead>\n",
       "  <tbody>\n",
       "    <tr>\n",
       "      <th>0</th>\n",
       "      <td>361</td>\n",
       "      <td>56.827622</td>\n",
       "      <td>60.581082</td>\n",
       "      <td>75631.0</td>\n",
       "      <td>64.0</td>\n",
       "      <td>1</td>\n",
       "    </tr>\n",
       "    <tr>\n",
       "      <th>1</th>\n",
       "      <td>361</td>\n",
       "      <td>55.750347</td>\n",
       "      <td>37.623851</td>\n",
       "      <td>43687.0</td>\n",
       "      <td>295.0</td>\n",
       "      <td>1</td>\n",
       "    </tr>\n",
       "    <tr>\n",
       "      <th>2</th>\n",
       "      <td>361</td>\n",
       "      <td>55.750347</td>\n",
       "      <td>37.623851</td>\n",
       "      <td>43747.0</td>\n",
       "      <td>307.0</td>\n",
       "      <td>1</td>\n",
       "    </tr>\n",
       "    <tr>\n",
       "      <th>3</th>\n",
       "      <td>361</td>\n",
       "      <td>55.750347</td>\n",
       "      <td>37.623851</td>\n",
       "      <td>43747.0</td>\n",
       "      <td>456.0</td>\n",
       "      <td>1</td>\n",
       "    </tr>\n",
       "    <tr>\n",
       "      <th>4</th>\n",
       "      <td>361</td>\n",
       "      <td>55.750347</td>\n",
       "      <td>37.623511</td>\n",
       "      <td>41004.0</td>\n",
       "      <td>352.0</td>\n",
       "      <td>1</td>\n",
       "    </tr>\n",
       "  </tbody>\n",
       "</table>\n",
       "</div>"
      ],
      "text/plain": [
       "   merchant_id   latitude  longitude  real_transaction_dttm  record_delay  \\\n",
       "0          361  56.827622  60.581082                75631.0          64.0   \n",
       "1          361  55.750347  37.623851                43687.0         295.0   \n",
       "2          361  55.750347  37.623851                43747.0         307.0   \n",
       "3          361  55.750347  37.623851                43747.0         456.0   \n",
       "4          361  55.750347  37.623511                41004.0         352.0   \n",
       "\n",
       "   is_in_area  \n",
       "0           1  \n",
       "1           1  \n",
       "2           1  \n",
       "3           1  \n",
       "4           1  "
      ]
     },
     "execution_count": 128,
     "metadata": {},
     "output_type": "execute_result"
    }
   ],
   "source": [
    "test = pd.read_csv(\"data/test.csv.gz\").drop(['record_date'], axis=1)\n",
    "test['record_delay'] = np.abs(test['record_delay'])\n",
    "test.head()"
   ]
  },
  {
   "cell_type": "code",
   "execution_count": 129,
   "metadata": {
    "collapsed": false
   },
   "outputs": [
    {
     "data": {
      "text/html": [
       "<div>\n",
       "<table border=\"1\" class=\"dataframe\">\n",
       "  <thead>\n",
       "    <tr style=\"text-align: right;\">\n",
       "      <th></th>\n",
       "      <th>merchant_id</th>\n",
       "      <th>latitude</th>\n",
       "      <th>longitude</th>\n",
       "      <th>real_transaction_dttm</th>\n",
       "      <th>record_delay</th>\n",
       "      <th>latitude_origin</th>\n",
       "      <th>longitude_origin</th>\n",
       "      <th>dist</th>\n",
       "      <th>is_in_area</th>\n",
       "    </tr>\n",
       "  </thead>\n",
       "  <tbody>\n",
       "    <tr>\n",
       "      <th>0</th>\n",
       "      <td>178</td>\n",
       "      <td>0.000000</td>\n",
       "      <td>0.000000</td>\n",
       "      <td>34487.0</td>\n",
       "      <td>251.0</td>\n",
       "      <td>55.055553</td>\n",
       "      <td>82.911833</td>\n",
       "      <td>9555245.0</td>\n",
       "      <td>0</td>\n",
       "    </tr>\n",
       "    <tr>\n",
       "      <th>1</th>\n",
       "      <td>178</td>\n",
       "      <td>55.055996</td>\n",
       "      <td>82.912991</td>\n",
       "      <td>64190.0</td>\n",
       "      <td>274.0</td>\n",
       "      <td>55.055553</td>\n",
       "      <td>82.911833</td>\n",
       "      <td>89.0</td>\n",
       "      <td>1</td>\n",
       "    </tr>\n",
       "    <tr>\n",
       "      <th>2</th>\n",
       "      <td>178</td>\n",
       "      <td>0.000000</td>\n",
       "      <td>0.000000</td>\n",
       "      <td>34487.0</td>\n",
       "      <td>205.0</td>\n",
       "      <td>55.055553</td>\n",
       "      <td>82.911833</td>\n",
       "      <td>9555245.0</td>\n",
       "      <td>0</td>\n",
       "    </tr>\n",
       "    <tr>\n",
       "      <th>3</th>\n",
       "      <td>178</td>\n",
       "      <td>55.056034</td>\n",
       "      <td>82.912734</td>\n",
       "      <td>64190.0</td>\n",
       "      <td>409.0</td>\n",
       "      <td>55.055553</td>\n",
       "      <td>82.911833</td>\n",
       "      <td>79.0</td>\n",
       "      <td>1</td>\n",
       "    </tr>\n",
       "    <tr>\n",
       "      <th>4</th>\n",
       "      <td>178</td>\n",
       "      <td>55.056034</td>\n",
       "      <td>82.912734</td>\n",
       "      <td>64190.0</td>\n",
       "      <td>273.0</td>\n",
       "      <td>55.055553</td>\n",
       "      <td>82.911833</td>\n",
       "      <td>79.0</td>\n",
       "      <td>1</td>\n",
       "    </tr>\n",
       "  </tbody>\n",
       "</table>\n",
       "</div>"
      ],
      "text/plain": [
       "   merchant_id   latitude  longitude  real_transaction_dttm  record_delay  \\\n",
       "0          178   0.000000   0.000000                34487.0         251.0   \n",
       "1          178  55.055996  82.912991                64190.0         274.0   \n",
       "2          178   0.000000   0.000000                34487.0         205.0   \n",
       "3          178  55.056034  82.912734                64190.0         409.0   \n",
       "4          178  55.056034  82.912734                64190.0         273.0   \n",
       "\n",
       "   latitude_origin  longitude_origin       dist  is_in_area  \n",
       "0        55.055553         82.911833  9555245.0           0  \n",
       "1        55.055553         82.911833       89.0           1  \n",
       "2        55.055553         82.911833  9555245.0           0  \n",
       "3        55.055553         82.911833       79.0           1  \n",
       "4        55.055553         82.911833       79.0           1  "
      ]
     },
     "execution_count": 129,
     "metadata": {},
     "output_type": "execute_result"
    }
   ],
   "source": [
    "train = pd.read_csv(\"data/train.csv.gz\").drop(['record_date'], axis=1)\n",
    "train['dist'] = np.round(train['dist'])\n",
    "train['record_delay'] = np.abs(train['record_delay'])\n",
    "train.head()"
   ]
  },
  {
   "cell_type": "code",
   "execution_count": 130,
   "metadata": {
    "collapsed": false
   },
   "outputs": [
    {
     "data": {
      "text/plain": [
       "(166912, 87088)"
      ]
     },
     "execution_count": 130,
     "metadata": {},
     "output_type": "execute_result"
    }
   ],
   "source": [
    "train.shape[0], train[train.duplicated(subset=['merchant_id', 'latitude', 'longitude']) == False].shape[0]\n",
    "# в два раза можно уменьшить датасет убрав дубли!"
   ]
  },
  {
   "cell_type": "code",
   "execution_count": 131,
   "metadata": {
    "collapsed": true
   },
   "outputs": [],
   "source": [
    "# Сортируем чтобы первыми были лучшие данные, это для убирания дублей полезно!\n",
    "train.sort_values(['dist','record_delay'], inplace=True)\n",
    "# Убираем дубли\n",
    "train = train[train.duplicated(subset=['merchant_id', 'latitude', 'longitude']) == False]\n",
    "train = train[train.duplicated(subset=['merchant_id', 'real_transaction_dttm']) == False]"
   ]
  },
  {
   "cell_type": "code",
   "execution_count": 132,
   "metadata": {
    "collapsed": false
   },
   "outputs": [
    {
     "name": "stdout",
     "output_type": "stream",
     "text": [
      "82441\n",
      "44001\n"
     ]
    }
   ],
   "source": [
    "test.sort_values(['is_in_area'], ascending=False, inplace=True)\n",
    "test.sort_values(['record_delay'], inplace=True)\n",
    "\n",
    "print(test.shape[0])\n",
    "test = test[test.duplicated(['merchant_id', 'latitude', 'longitude']) == False]\n",
    "test = test[test.duplicated(['merchant_id', 'real_transaction_dttm']) == False]\n",
    "print(test.shape[0])"
   ]
  },
  {
   "cell_type": "code",
   "execution_count": 133,
   "metadata": {
    "collapsed": false
   },
   "outputs": [
    {
     "name": "stdout",
     "output_type": "stream",
     "text": [
      "merchant_id                int64\n",
      "latitude                 float64\n",
      "longitude                float64\n",
      "real_transaction_dttm    float64\n",
      "record_delay             float64\n",
      "is_in_area                 int64\n",
      "dtype: object\n",
      "(85524, 6)\n"
     ]
    },
    {
     "data": {
      "text/html": [
       "<div>\n",
       "<table border=\"1\" class=\"dataframe\">\n",
       "  <thead>\n",
       "    <tr style=\"text-align: right;\">\n",
       "      <th></th>\n",
       "      <th>merchant_id</th>\n",
       "      <th>latitude</th>\n",
       "      <th>longitude</th>\n",
       "      <th>real_transaction_dttm</th>\n",
       "      <th>record_delay</th>\n",
       "      <th>is_in_area</th>\n",
       "    </tr>\n",
       "  </thead>\n",
       "  <tbody>\n",
       "    <tr>\n",
       "      <th>36500</th>\n",
       "      <td>228992</td>\n",
       "      <td>55.672829</td>\n",
       "      <td>37.484667</td>\n",
       "      <td>39956.0</td>\n",
       "      <td>2.0</td>\n",
       "      <td>1</td>\n",
       "    </tr>\n",
       "    <tr>\n",
       "      <th>34600</th>\n",
       "      <td>206828</td>\n",
       "      <td>59.984818</td>\n",
       "      <td>30.344084</td>\n",
       "      <td>81656.0</td>\n",
       "      <td>5.0</td>\n",
       "      <td>1</td>\n",
       "    </tr>\n",
       "    <tr>\n",
       "      <th>37729</th>\n",
       "      <td>246118</td>\n",
       "      <td>54.994987</td>\n",
       "      <td>82.965875</td>\n",
       "      <td>73778.0</td>\n",
       "      <td>7.0</td>\n",
       "      <td>1</td>\n",
       "    </tr>\n",
       "    <tr>\n",
       "      <th>5796</th>\n",
       "      <td>41902</td>\n",
       "      <td>59.956250</td>\n",
       "      <td>30.244389</td>\n",
       "      <td>64044.0</td>\n",
       "      <td>8.0</td>\n",
       "      <td>1</td>\n",
       "    </tr>\n",
       "    <tr>\n",
       "      <th>139238</th>\n",
       "      <td>679552</td>\n",
       "      <td>55.823292</td>\n",
       "      <td>37.497800</td>\n",
       "      <td>76750.0</td>\n",
       "      <td>9.0</td>\n",
       "      <td>1</td>\n",
       "    </tr>\n",
       "  </tbody>\n",
       "</table>\n",
       "</div>"
      ],
      "text/plain": [
       "        merchant_id   latitude  longitude  real_transaction_dttm  \\\n",
       "36500        228992  55.672829  37.484667                39956.0   \n",
       "34600        206828  59.984818  30.344084                81656.0   \n",
       "37729        246118  54.994987  82.965875                73778.0   \n",
       "5796          41902  59.956250  30.244389                64044.0   \n",
       "139238       679552  55.823292  37.497800                76750.0   \n",
       "\n",
       "        record_delay  is_in_area  \n",
       "36500            2.0           1  \n",
       "34600            5.0           1  \n",
       "37729            7.0           1  \n",
       "5796             8.0           1  \n",
       "139238           9.0           1  "
      ]
     },
     "execution_count": 133,
     "metadata": {},
     "output_type": "execute_result"
    }
   ],
   "source": [
    "X = train.drop(['dist',      'latitude_origin', 'longitude_origin'], axis=1)\n",
    "y = train['dist']\n",
    "print(X.dtypes)\n",
    "print(X.shape)\n",
    "X.head()"
   ]
  },
  {
   "cell_type": "code",
   "execution_count": 134,
   "metadata": {
    "collapsed": false
   },
   "outputs": [
    {
     "data": {
      "text/plain": [
       "36500     0.0\n",
       "34600     0.0\n",
       "37729     0.0\n",
       "5796      0.0\n",
       "139238    0.0\n",
       "Name: dist, dtype: float64"
      ]
     },
     "execution_count": 134,
     "metadata": {},
     "output_type": "execute_result"
    }
   ],
   "source": [
    "y.head()"
   ]
  },
  {
   "cell_type": "code",
   "execution_count": 135,
   "metadata": {
    "collapsed": false
   },
   "outputs": [],
   "source": [
    "import xgboost as xgb\n",
    "from sklearn.linear_model import LogisticRegression\n",
    "from sklearn.model_selection import cross_val_score\n",
    "from sklearn.model_selection import ShuffleSplit\n",
    "from sklearn.model_selection import GridSearchCV\n",
    "from sklearn.model_selection import StratifiedKFold\n",
    "from sklearn.model_selection import KFold\n",
    "from sklearn.model_selection import train_test_split\n",
    "\n",
    "def test_clf(clf, X, y):\n",
    "    rs=ShuffleSplit(n_splits=5, test_size=.25)\n",
    "    scores = cross_val_score(clf, X, y, cv=rs, scoring='r2')\n",
    "    print(\"R2: {} (+/- {})\".format(scores.mean(), scores.std() * 2))\n",
    "\n",
    "def findXgbParams(X, y):\n",
    "    X_train, X_test, y_train, y_test = train_test_split(X, y, test_size=0.3, random_state=42)\n",
    "    clf = xgb.XGBRegressor()\n",
    "    parameter_grid = {\n",
    "        'n_estimators': [200],\n",
    "        'learning_rate': [0.2],\n",
    "        'colsample_bytree': [0.4, 0.6, 0.8, 1.0],\n",
    "        'max_depth': [4, 6, 8, 10]\n",
    "    }\n",
    "    grid_search = GridSearchCV(clf, param_grid=parameter_grid, cv=StratifiedKFold(5), scoring='r2')\n",
    "    grid_search.fit(X_train, y_train)\n",
    "    print('Best score: {}'.format(grid_search.best_score_))\n",
    "    print('Best parameters: {}'.format(grid_search.best_params_))"
   ]
  },
  {
   "cell_type": "code",
   "execution_count": 136,
   "metadata": {
    "collapsed": false
   },
   "outputs": [
    {
     "name": "stdout",
     "output_type": "stream",
     "text": [
      "R2: 0.9335037297105732 (+/- 0.005838719898078748)\n",
      "CPU times: user 18.5 s, sys: 622 ms, total: 19.1 s\n",
      "Wall time: 7.02 s\n"
     ]
    }
   ],
   "source": [
    "%time test_clf(xgb.XGBRegressor(), X, y) # даже без оригинального lat/lon он весьма правильно предсказал? 0.93"
   ]
  },
  {
   "cell_type": "code",
   "execution_count": 21,
   "metadata": {
    "collapsed": false
   },
   "outputs": [
    {
     "name": "stderr",
     "output_type": "stream",
     "text": [
      "/usr/local/lib/python3.5/site-packages/sklearn/model_selection/_split.py:579: Warning: The least populated class in y has only 1 members, which is too few. The minimum number of groups for any class cannot be less than n_splits=5.\n",
      "  % (min_groups, self.n_splits)), Warning)\n",
      "/usr/local/lib/python3.5/site-packages/sklearn/model_selection/_split.py:579: Warning: The least populated class in y has only 1 members, which is too few. The minimum number of groups for any class cannot be less than n_splits=5.\n",
      "  % (min_groups, self.n_splits)), Warning)\n",
      "/usr/local/lib/python3.5/site-packages/sklearn/model_selection/_split.py:579: Warning: The least populated class in y has only 1 members, which is too few. The minimum number of groups for any class cannot be less than n_splits=5.\n",
      "  % (min_groups, self.n_splits)), Warning)\n",
      "/usr/local/lib/python3.5/site-packages/sklearn/model_selection/_split.py:579: Warning: The least populated class in y has only 1 members, which is too few. The minimum number of groups for any class cannot be less than n_splits=5.\n",
      "  % (min_groups, self.n_splits)), Warning)\n",
      "/usr/local/lib/python3.5/site-packages/sklearn/model_selection/_split.py:579: Warning: The least populated class in y has only 1 members, which is too few. The minimum number of groups for any class cannot be less than n_splits=5.\n",
      "  % (min_groups, self.n_splits)), Warning)\n",
      "/usr/local/lib/python3.5/site-packages/sklearn/model_selection/_split.py:579: Warning: The least populated class in y has only 1 members, which is too few. The minimum number of groups for any class cannot be less than n_splits=5.\n",
      "  % (min_groups, self.n_splits)), Warning)\n",
      "/usr/local/lib/python3.5/site-packages/sklearn/model_selection/_split.py:579: Warning: The least populated class in y has only 1 members, which is too few. The minimum number of groups for any class cannot be less than n_splits=5.\n",
      "  % (min_groups, self.n_splits)), Warning)\n",
      "/usr/local/lib/python3.5/site-packages/sklearn/model_selection/_split.py:579: Warning: The least populated class in y has only 1 members, which is too few. The minimum number of groups for any class cannot be less than n_splits=5.\n",
      "  % (min_groups, self.n_splits)), Warning)\n",
      "/usr/local/lib/python3.5/site-packages/sklearn/model_selection/_split.py:579: Warning: The least populated class in y has only 1 members, which is too few. The minimum number of groups for any class cannot be less than n_splits=5.\n",
      "  % (min_groups, self.n_splits)), Warning)\n",
      "/usr/local/lib/python3.5/site-packages/sklearn/model_selection/_split.py:579: Warning: The least populated class in y has only 1 members, which is too few. The minimum number of groups for any class cannot be less than n_splits=5.\n",
      "  % (min_groups, self.n_splits)), Warning)\n",
      "/usr/local/lib/python3.5/site-packages/sklearn/model_selection/_split.py:579: Warning: The least populated class in y has only 1 members, which is too few. The minimum number of groups for any class cannot be less than n_splits=5.\n",
      "  % (min_groups, self.n_splits)), Warning)\n",
      "/usr/local/lib/python3.5/site-packages/sklearn/model_selection/_split.py:579: Warning: The least populated class in y has only 1 members, which is too few. The minimum number of groups for any class cannot be less than n_splits=5.\n",
      "  % (min_groups, self.n_splits)), Warning)\n",
      "/usr/local/lib/python3.5/site-packages/sklearn/model_selection/_split.py:579: Warning: The least populated class in y has only 1 members, which is too few. The minimum number of groups for any class cannot be less than n_splits=5.\n",
      "  % (min_groups, self.n_splits)), Warning)\n",
      "/usr/local/lib/python3.5/site-packages/sklearn/model_selection/_split.py:579: Warning: The least populated class in y has only 1 members, which is too few. The minimum number of groups for any class cannot be less than n_splits=5.\n",
      "  % (min_groups, self.n_splits)), Warning)\n",
      "/usr/local/lib/python3.5/site-packages/sklearn/model_selection/_split.py:579: Warning: The least populated class in y has only 1 members, which is too few. The minimum number of groups for any class cannot be less than n_splits=5.\n",
      "  % (min_groups, self.n_splits)), Warning)\n",
      "/usr/local/lib/python3.5/site-packages/sklearn/model_selection/_split.py:579: Warning: The least populated class in y has only 1 members, which is too few. The minimum number of groups for any class cannot be less than n_splits=5.\n",
      "  % (min_groups, self.n_splits)), Warning)\n"
     ]
    },
    {
     "name": "stdout",
     "output_type": "stream",
     "text": [
      "Best score: 0.9819397572097128\n",
      "Best parameters: {'learning_rate': 0.2, 'colsample_bytree': 1.0, 'max_depth': 10, 'n_estimators': 200}\n",
      "CPU times: user 34min 2s, sys: 53.8 s, total: 34min 55s\n",
      "Wall time: 20min 3s\n"
     ]
    }
   ],
   "source": [
    "%time findXgbParams(X, y)"
   ]
  },
  {
   "cell_type": "code",
   "execution_count": 137,
   "metadata": {
    "collapsed": true
   },
   "outputs": [],
   "source": [
    "xgb_params = {'learning_rate': 0.2, 'colsample_bytree': 1.0, 'max_depth': 10, 'n_estimators': 200}\n",
    "xgb_clf = xgb.XGBRegressor(**xgb_params)"
   ]
  },
  {
   "cell_type": "code",
   "execution_count": 138,
   "metadata": {
    "collapsed": false
   },
   "outputs": [
    {
     "name": "stdout",
     "output_type": "stream",
     "text": [
      "CPU times: user 30.9 s, sys: 955 ms, total: 31.9 s\n",
      "Wall time: 11.6 s\n"
     ]
    },
    {
     "data": {
      "text/plain": [
       "XGBRegressor(base_score=0.5, colsample_bylevel=1, colsample_bytree=1.0,\n",
       "       gamma=0, learning_rate=0.2, max_delta_step=0, max_depth=10,\n",
       "       min_child_weight=1, missing=None, n_estimators=200, nthread=-1,\n",
       "       objective='reg:linear', reg_alpha=0, reg_lambda=1,\n",
       "       scale_pos_weight=1, seed=0, silent=True, subsample=1)"
      ]
     },
     "execution_count": 138,
     "metadata": {},
     "output_type": "execute_result"
    }
   ],
   "source": [
    "%time xgb_clf.fit(X, y)"
   ]
  },
  {
   "cell_type": "code",
   "execution_count": 139,
   "metadata": {
    "collapsed": false
   },
   "outputs": [
    {
     "name": "stdout",
     "output_type": "stream",
     "text": [
      "merchant_id 0.328128\n",
      "latitude 0.213615\n",
      "longitude 0.190651\n",
      "real_transaction_dttm 0.156225\n",
      "record_delay 0.110174\n",
      "is_in_area 0.00120756\n"
     ]
    }
   ],
   "source": [
    "for f, imp in zip(X.columns, xgb_clf.feature_importances_):\n",
    "    print(f, imp)"
   ]
  },
  {
   "cell_type": "code",
   "execution_count": 140,
   "metadata": {
    "collapsed": false
   },
   "outputs": [
    {
     "data": {
      "text/plain": [
       "array([ 2517926.        ,    45041.375     ,  4353273.        , ...,\n",
       "         477838.4375    ,    11829.50488281,   361776.59375   ], dtype=float32)"
      ]
     },
     "execution_count": 140,
     "metadata": {},
     "output_type": "execute_result"
    }
   ],
   "source": [
    "pred_dist = xgb_clf.predict(test)\n",
    "pred_dist"
   ]
  },
  {
   "cell_type": "code",
   "execution_count": 141,
   "metadata": {
    "collapsed": false
   },
   "outputs": [
    {
     "data": {
      "text/plain": [
       "count       44001.00\n",
       "mean       643402.75\n",
       "std       1680239.50\n",
       "min             2.00\n",
       "25%         30761.00\n",
       "50%         77056.00\n",
       "75%        284730.00\n",
       "max      14082806.00\n",
       "Name: dist, dtype: float64"
      ]
     },
     "execution_count": 141,
     "metadata": {},
     "output_type": "execute_result"
    }
   ],
   "source": [
    "test['dist'] = np.abs(np.round(pred_dist))\n",
    "test['dist'].describe()"
   ]
  },
  {
   "cell_type": "code",
   "execution_count": 142,
   "metadata": {
    "collapsed": false
   },
   "outputs": [
    {
     "data": {
      "text/plain": [
       "count    8.552400e+04\n",
       "mean     5.986353e+05\n",
       "std      1.678553e+06\n",
       "min      0.000000e+00\n",
       "25%      1.708000e+03\n",
       "50%      9.051000e+03\n",
       "75%      4.450050e+04\n",
       "max      1.699301e+07\n",
       "Name: dist, dtype: float64"
      ]
     },
     "execution_count": 142,
     "metadata": {},
     "output_type": "execute_result"
    }
   ],
   "source": [
    "train['dist'].describe()"
   ]
  },
  {
   "cell_type": "code",
   "execution_count": 143,
   "metadata": {
    "collapsed": false
   },
   "outputs": [
    {
     "data": {
      "text/plain": [
       "<matplotlib.axes._subplots.AxesSubplot at 0x10f68c2b0>"
      ]
     },
     "execution_count": 143,
     "metadata": {},
     "output_type": "execute_result"
    },
    {
     "data": {
      "image/png": "[encoded data removed]",
      "text/plain": [
       "<matplotlib.figure.Figure at 0x10c0a95f8>"
      ]
     },
     "metadata": {},
     "output_type": "display_data"
    }
   ],
   "source": [
    "test['dist'].plot(kind='hist',bins=100) # Повторили распределение тестовой выборки. Только еще неизвестно, хорошо это или плохо."
   ]
  },
  {
   "cell_type": "code",
   "execution_count": 146,
   "metadata": {
    "collapsed": true
   },
   "outputs": [],
   "source": [
    "test.to_csv(\"data/test_with_dist_without_dubs.csv.gz\", compression='gzip', index=False)"
   ]
  },
  {
   "cell_type": "code",
   "execution_count": 145,
   "metadata": {
    "collapsed": false
   },
   "outputs": [],
   "source": [
    "train.to_csv(\"data/train_without_dubs.csv.gz\", compression='gzip', index=False)"
   ]
  }
 ],
 "metadata": {
  "kernelspec": {
   "display_name": "Python 3",
   "language": "python",
   "name": "python3"
  },
  "language_info": {
   "codemirror_mode": {
    "name": "ipython",
    "version": 3
   },
   "file_extension": ".py",
   "mimetype": "text/x-python",
   "name": "python",
   "nbconvert_exporter": "python",
   "pygments_lexer": "ipython3",
   "version": "3.5.2"
  }
 },
 "nbformat": 4,
 "nbformat_minor": 0
}
