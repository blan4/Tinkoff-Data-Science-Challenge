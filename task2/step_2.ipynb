{
 "cells": [
  {
   "cell_type": "code",
   "execution_count": 73,
   "metadata": {
    "collapsed": true
   },
   "outputs": [],
   "source": [
    "import pandas as pd\n",
    "import numpy as np\n",
    "import matplotlib.pyplot as plt\n",
    "import seaborn as sns\n",
    "%matplotlib inline\n",
    "import xgboost as xgb"
   ]
  },
  {
   "cell_type": "code",
   "execution_count": 75,
   "metadata": {
    "collapsed": false
   },
   "outputs": [
    {
     "data": {
      "text/html": [
       "<div>\n",
       "<table border=\"1\" class=\"dataframe\">\n",
       "  <thead>\n",
       "    <tr style=\"text-align: right;\">\n",
       "      <th></th>\n",
       "      <th>merchant_id</th>\n",
       "      <th>latitude</th>\n",
       "      <th>longitude</th>\n",
       "      <th>real_transaction_dttm</th>\n",
       "      <th>record_delay</th>\n",
       "      <th>dist</th>\n",
       "      <th>is_in_area</th>\n",
       "    </tr>\n",
       "  </thead>\n",
       "  <tbody>\n",
       "    <tr>\n",
       "      <th>0</th>\n",
       "      <td>1150899</td>\n",
       "      <td>46.498337</td>\n",
       "      <td>13.507997</td>\n",
       "      <td>39293.0</td>\n",
       "      <td>0.0</td>\n",
       "      <td>2517926.0</td>\n",
       "      <td>0</td>\n",
       "    </tr>\n",
       "    <tr>\n",
       "      <th>1</th>\n",
       "      <td>411612</td>\n",
       "      <td>56.117978</td>\n",
       "      <td>47.475212</td>\n",
       "      <td>42592.0</td>\n",
       "      <td>0.0</td>\n",
       "      <td>45041.0</td>\n",
       "      <td>1</td>\n",
       "    </tr>\n",
       "    <tr>\n",
       "      <th>2</th>\n",
       "      <td>616963</td>\n",
       "      <td>31.781375</td>\n",
       "      <td>2.905627</td>\n",
       "      <td>67258.0</td>\n",
       "      <td>0.0</td>\n",
       "      <td>4353273.0</td>\n",
       "      <td>0</td>\n",
       "    </tr>\n",
       "    <tr>\n",
       "      <th>3</th>\n",
       "      <td>419934</td>\n",
       "      <td>60.000674</td>\n",
       "      <td>30.264237</td>\n",
       "      <td>75541.0</td>\n",
       "      <td>0.0</td>\n",
       "      <td>17709.0</td>\n",
       "      <td>1</td>\n",
       "    </tr>\n",
       "    <tr>\n",
       "      <th>4</th>\n",
       "      <td>407995</td>\n",
       "      <td>55.708998</td>\n",
       "      <td>37.620635</td>\n",
       "      <td>73061.0</td>\n",
       "      <td>0.0</td>\n",
       "      <td>6397.0</td>\n",
       "      <td>1</td>\n",
       "    </tr>\n",
       "  </tbody>\n",
       "</table>\n",
       "</div>"
      ],
      "text/plain": [
       "   merchant_id   latitude  longitude  real_transaction_dttm  record_delay  \\\n",
       "0      1150899  46.498337  13.507997                39293.0           0.0   \n",
       "1       411612  56.117978  47.475212                42592.0           0.0   \n",
       "2       616963  31.781375   2.905627                67258.0           0.0   \n",
       "3       419934  60.000674  30.264237                75541.0           0.0   \n",
       "4       407995  55.708998  37.620635                73061.0           0.0   \n",
       "\n",
       "        dist  is_in_area  \n",
       "0  2517926.0           0  \n",
       "1    45041.0           1  \n",
       "2  4353273.0           0  \n",
       "3    17709.0           1  \n",
       "4     6397.0           1  "
      ]
     },
     "execution_count": 75,
     "metadata": {},
     "output_type": "execute_result"
    }
   ],
   "source": [
    "test = pd.read_csv(\"data/test_with_dist_without_dubs.csv.gz\")\n",
    "test = test[['merchant_id', 'latitude','longitude','real_transaction_dttm', 'record_delay','dist','is_in_area']]\n",
    "test.head()"
   ]
  },
  {
   "cell_type": "code",
   "execution_count": 76,
   "metadata": {
    "collapsed": false
   },
   "outputs": [
    {
     "data": {
      "text/html": [
       "<div>\n",
       "<table border=\"1\" class=\"dataframe\">\n",
       "  <thead>\n",
       "    <tr style=\"text-align: right;\">\n",
       "      <th></th>\n",
       "      <th>merchant_id</th>\n",
       "      <th>latitude</th>\n",
       "      <th>longitude</th>\n",
       "      <th>real_transaction_dttm</th>\n",
       "      <th>record_delay</th>\n",
       "      <th>latitude_origin</th>\n",
       "      <th>longitude_origin</th>\n",
       "      <th>dist</th>\n",
       "      <th>is_in_area</th>\n",
       "    </tr>\n",
       "  </thead>\n",
       "  <tbody>\n",
       "    <tr>\n",
       "      <th>0</th>\n",
       "      <td>228992</td>\n",
       "      <td>55.672829</td>\n",
       "      <td>37.484667</td>\n",
       "      <td>39956.0</td>\n",
       "      <td>2.0</td>\n",
       "      <td>55.672829</td>\n",
       "      <td>37.484667</td>\n",
       "      <td>0.0</td>\n",
       "      <td>1</td>\n",
       "    </tr>\n",
       "    <tr>\n",
       "      <th>1</th>\n",
       "      <td>206828</td>\n",
       "      <td>59.984818</td>\n",
       "      <td>30.344084</td>\n",
       "      <td>81656.0</td>\n",
       "      <td>5.0</td>\n",
       "      <td>59.984818</td>\n",
       "      <td>30.344084</td>\n",
       "      <td>0.0</td>\n",
       "      <td>1</td>\n",
       "    </tr>\n",
       "    <tr>\n",
       "      <th>2</th>\n",
       "      <td>246118</td>\n",
       "      <td>54.994987</td>\n",
       "      <td>82.965875</td>\n",
       "      <td>73778.0</td>\n",
       "      <td>7.0</td>\n",
       "      <td>54.994987</td>\n",
       "      <td>82.965875</td>\n",
       "      <td>0.0</td>\n",
       "      <td>1</td>\n",
       "    </tr>\n",
       "    <tr>\n",
       "      <th>3</th>\n",
       "      <td>41902</td>\n",
       "      <td>59.956250</td>\n",
       "      <td>30.244389</td>\n",
       "      <td>64044.0</td>\n",
       "      <td>8.0</td>\n",
       "      <td>59.956250</td>\n",
       "      <td>30.244389</td>\n",
       "      <td>0.0</td>\n",
       "      <td>1</td>\n",
       "    </tr>\n",
       "    <tr>\n",
       "      <th>4</th>\n",
       "      <td>679552</td>\n",
       "      <td>55.823292</td>\n",
       "      <td>37.497800</td>\n",
       "      <td>76750.0</td>\n",
       "      <td>9.0</td>\n",
       "      <td>55.823292</td>\n",
       "      <td>37.497800</td>\n",
       "      <td>0.0</td>\n",
       "      <td>1</td>\n",
       "    </tr>\n",
       "  </tbody>\n",
       "</table>\n",
       "</div>"
      ],
      "text/plain": [
       "   merchant_id   latitude  longitude  real_transaction_dttm  record_delay  \\\n",
       "0       228992  55.672829  37.484667                39956.0           2.0   \n",
       "1       206828  59.984818  30.344084                81656.0           5.0   \n",
       "2       246118  54.994987  82.965875                73778.0           7.0   \n",
       "3        41902  59.956250  30.244389                64044.0           8.0   \n",
       "4       679552  55.823292  37.497800                76750.0           9.0   \n",
       "\n",
       "   latitude_origin  longitude_origin  dist  is_in_area  \n",
       "0        55.672829         37.484667   0.0           1  \n",
       "1        59.984818         30.344084   0.0           1  \n",
       "2        54.994987         82.965875   0.0           1  \n",
       "3        59.956250         30.244389   0.0           1  \n",
       "4        55.823292         37.497800   0.0           1  "
      ]
     },
     "execution_count": 76,
     "metadata": {},
     "output_type": "execute_result"
    }
   ],
   "source": [
    "train = pd.read_csv(\"data/train_without_dubs.csv.gz\")\n",
    "train['dist'] = train['dist']\n",
    "train.head()"
   ]
  },
  {
   "cell_type": "code",
   "execution_count": 77,
   "metadata": {
    "collapsed": false
   },
   "outputs": [],
   "source": [
    "X_1 = train.drop(['longitude_origin', 'latitude_origin'], axis = 1)\n",
    "Y_1 = train['longitude_origin']"
   ]
  },
  {
   "cell_type": "code",
   "execution_count": 78,
   "metadata": {
    "collapsed": false
   },
   "outputs": [
    {
     "data": {
      "text/plain": [
       "Index(['merchant_id', 'latitude', 'longitude', 'real_transaction_dttm',\n",
       "       'record_delay', 'dist', 'is_in_area'],\n",
       "      dtype='object')"
      ]
     },
     "execution_count": 78,
     "metadata": {},
     "output_type": "execute_result"
    }
   ],
   "source": [
    "X_1.columns"
   ]
  },
  {
   "cell_type": "code",
   "execution_count": 79,
   "metadata": {
    "collapsed": true
   },
   "outputs": [],
   "source": [
    "X_2 = train.drop(['latitude_origin'], axis = 1)\n",
    "Y_2 = train['latitude_origin']"
   ]
  },
  {
   "cell_type": "code",
   "execution_count": 80,
   "metadata": {
    "collapsed": true
   },
   "outputs": [],
   "source": [
    "clf_1 = xgb.XGBRegressor(n_estimators=300, learning_rate=0.2)\n",
    "clf_2 = xgb.XGBRegressor(n_estimators=300, learning_rate=0.2)"
   ]
  },
  {
   "cell_type": "code",
   "execution_count": 81,
   "metadata": {
    "collapsed": false
   },
   "outputs": [
    {
     "name": "stdout",
     "output_type": "stream",
     "text": [
      "CPU times: user 15.3 s, sys: 410 ms, total: 15.7 s\n",
      "Wall time: 5.99 s\n"
     ]
    },
    {
     "data": {
      "text/plain": [
       "XGBRegressor(base_score=0.5, colsample_bylevel=1, colsample_bytree=1, gamma=0,\n",
       "       learning_rate=0.2, max_delta_step=0, max_depth=3,\n",
       "       min_child_weight=1, missing=None, n_estimators=300, nthread=-1,\n",
       "       objective='reg:linear', reg_alpha=0, reg_lambda=1,\n",
       "       scale_pos_weight=1, seed=0, silent=True, subsample=1)"
      ]
     },
     "execution_count": 81,
     "metadata": {},
     "output_type": "execute_result"
    }
   ],
   "source": [
    "%time clf_1.fit(X_1, Y_1)"
   ]
  },
  {
   "cell_type": "code",
   "execution_count": 82,
   "metadata": {
    "collapsed": false
   },
   "outputs": [
    {
     "name": "stdout",
     "output_type": "stream",
     "text": [
      "merchant_id 0.0954479\n",
      "latitude 0.203133\n",
      "longitude 0.292707\n",
      "real_transaction_dttm 0.0347528\n",
      "record_delay 0.0186001\n",
      "dist 0.352423\n",
      "is_in_area 0.00293686\n"
     ]
    }
   ],
   "source": [
    "for f, imp in zip(X_1.columns, clf_1.feature_importances_):\n",
    "    print(f, imp)"
   ]
  },
  {
   "cell_type": "code",
   "execution_count": 83,
   "metadata": {
    "collapsed": false
   },
   "outputs": [
    {
     "data": {
      "text/plain": [
       "array([ 40.20256805,  47.8777504 ,  35.44664001, ...,  61.49795151,\n",
       "        30.47027206,  39.04535294], dtype=float32)"
      ]
     },
     "execution_count": 83,
     "metadata": {},
     "output_type": "execute_result"
    }
   ],
   "source": [
    "pred_long = clf_1.predict(test)\n",
    "pred_long"
   ]
  },
  {
   "cell_type": "code",
   "execution_count": 85,
   "metadata": {
    "collapsed": true
   },
   "outputs": [],
   "source": [
    "def draw_coordinates(data):\n",
    "    fig = plt.figure()\n",
    "    ax = fig.add_subplot(111)\n",
    "    plt.scatter(data['longitude_origin'], data['latitude_origin'])\n",
    "    ax.add_patch(plt.Rectangle((20.463191, 40.143636), 142.730432 - 20.463191, 68.970401 - 40.143636, fill=False,hatch='\\\\'))\n",
    "    plt.show()"
   ]
  },
  {
   "cell_type": "code",
   "execution_count": 86,
   "metadata": {
    "collapsed": false
   },
   "outputs": [
    {
     "data": {
      "text/html": [
       "<div>\n",
       "<table border=\"1\" class=\"dataframe\">\n",
       "  <thead>\n",
       "    <tr style=\"text-align: right;\">\n",
       "      <th></th>\n",
       "      <th>merchant_id</th>\n",
       "      <th>latitude</th>\n",
       "      <th>longitude</th>\n",
       "      <th>real_transaction_dttm</th>\n",
       "      <th>record_delay</th>\n",
       "      <th>dist</th>\n",
       "      <th>is_in_area</th>\n",
       "      <th>longitude_origin</th>\n",
       "    </tr>\n",
       "  </thead>\n",
       "  <tbody>\n",
       "    <tr>\n",
       "      <th>0</th>\n",
       "      <td>1150899</td>\n",
       "      <td>46.498337</td>\n",
       "      <td>13.507997</td>\n",
       "      <td>39293.0</td>\n",
       "      <td>0.0</td>\n",
       "      <td>2517926.0</td>\n",
       "      <td>0</td>\n",
       "      <td>40.202568</td>\n",
       "    </tr>\n",
       "    <tr>\n",
       "      <th>1</th>\n",
       "      <td>411612</td>\n",
       "      <td>56.117978</td>\n",
       "      <td>47.475212</td>\n",
       "      <td>42592.0</td>\n",
       "      <td>0.0</td>\n",
       "      <td>45041.0</td>\n",
       "      <td>1</td>\n",
       "      <td>47.877750</td>\n",
       "    </tr>\n",
       "    <tr>\n",
       "      <th>2</th>\n",
       "      <td>616963</td>\n",
       "      <td>31.781375</td>\n",
       "      <td>2.905627</td>\n",
       "      <td>67258.0</td>\n",
       "      <td>0.0</td>\n",
       "      <td>4353273.0</td>\n",
       "      <td>0</td>\n",
       "      <td>35.446640</td>\n",
       "    </tr>\n",
       "    <tr>\n",
       "      <th>3</th>\n",
       "      <td>419934</td>\n",
       "      <td>60.000674</td>\n",
       "      <td>30.264237</td>\n",
       "      <td>75541.0</td>\n",
       "      <td>0.0</td>\n",
       "      <td>17709.0</td>\n",
       "      <td>1</td>\n",
       "      <td>30.491623</td>\n",
       "    </tr>\n",
       "    <tr>\n",
       "      <th>4</th>\n",
       "      <td>407995</td>\n",
       "      <td>55.708998</td>\n",
       "      <td>37.620635</td>\n",
       "      <td>73061.0</td>\n",
       "      <td>0.0</td>\n",
       "      <td>6397.0</td>\n",
       "      <td>1</td>\n",
       "      <td>37.552544</td>\n",
       "    </tr>\n",
       "  </tbody>\n",
       "</table>\n",
       "</div>"
      ],
      "text/plain": [
       "   merchant_id   latitude  longitude  real_transaction_dttm  record_delay  \\\n",
       "0      1150899  46.498337  13.507997                39293.0           0.0   \n",
       "1       411612  56.117978  47.475212                42592.0           0.0   \n",
       "2       616963  31.781375   2.905627                67258.0           0.0   \n",
       "3       419934  60.000674  30.264237                75541.0           0.0   \n",
       "4       407995  55.708998  37.620635                73061.0           0.0   \n",
       "\n",
       "        dist  is_in_area  longitude_origin  \n",
       "0  2517926.0           0         40.202568  \n",
       "1    45041.0           1         47.877750  \n",
       "2  4353273.0           0         35.446640  \n",
       "3    17709.0           1         30.491623  \n",
       "4     6397.0           1         37.552544  "
      ]
     },
     "execution_count": 86,
     "metadata": {},
     "output_type": "execute_result"
    }
   ],
   "source": [
    "test['longitude_origin'] = pred_long\n",
    "test.head()"
   ]
  },
  {
   "cell_type": "code",
   "execution_count": 87,
   "metadata": {
    "collapsed": false
   },
   "outputs": [
    {
     "name": "stdout",
     "output_type": "stream",
     "text": [
      "CPU times: user 16.7 s, sys: 432 ms, total: 17.1 s\n",
      "Wall time: 6.6 s\n"
     ]
    },
    {
     "data": {
      "text/plain": [
       "XGBRegressor(base_score=0.5, colsample_bylevel=1, colsample_bytree=1, gamma=0,\n",
       "       learning_rate=0.2, max_delta_step=0, max_depth=3,\n",
       "       min_child_weight=1, missing=None, n_estimators=300, nthread=-1,\n",
       "       objective='reg:linear', reg_alpha=0, reg_lambda=1,\n",
       "       scale_pos_weight=1, seed=0, silent=True, subsample=1)"
      ]
     },
     "execution_count": 87,
     "metadata": {},
     "output_type": "execute_result"
    }
   ],
   "source": [
    "%time clf_2.fit(X_2, Y_2)"
   ]
  },
  {
   "cell_type": "code",
   "execution_count": 88,
   "metadata": {
    "collapsed": false
   },
   "outputs": [
    {
     "data": {
      "text/plain": [
       "array([ 47.12361526,  55.74832153,  54.03660965, ...,  55.11782074,\n",
       "        59.86868286,  46.02645874], dtype=float32)"
      ]
     },
     "execution_count": 88,
     "metadata": {},
     "output_type": "execute_result"
    }
   ],
   "source": [
    "pred_lat = clf_2.predict(test[['merchant_id', 'latitude', 'longitude', 'real_transaction_dttm', 'record_delay', 'longitude_origin', 'dist', 'is_in_area']])\n",
    "pred_lat"
   ]
  },
  {
   "cell_type": "code",
   "execution_count": 91,
   "metadata": {
    "collapsed": false
   },
   "outputs": [
    {
     "data": {
      "text/html": [
       "<div>\n",
       "<table border=\"1\" class=\"dataframe\">\n",
       "  <thead>\n",
       "    <tr style=\"text-align: right;\">\n",
       "      <th></th>\n",
       "      <th>merchant_id</th>\n",
       "      <th>latitude</th>\n",
       "      <th>longitude</th>\n",
       "      <th>real_transaction_dttm</th>\n",
       "      <th>record_delay</th>\n",
       "      <th>dist</th>\n",
       "      <th>is_in_area</th>\n",
       "      <th>longitude_origin</th>\n",
       "      <th>latitude_origin</th>\n",
       "    </tr>\n",
       "  </thead>\n",
       "  <tbody>\n",
       "    <tr>\n",
       "      <th>0</th>\n",
       "      <td>1150899</td>\n",
       "      <td>46.498337</td>\n",
       "      <td>13.507997</td>\n",
       "      <td>39293.0</td>\n",
       "      <td>0.0</td>\n",
       "      <td>2517926.0</td>\n",
       "      <td>0</td>\n",
       "      <td>40.202568</td>\n",
       "      <td>47.123615</td>\n",
       "    </tr>\n",
       "    <tr>\n",
       "      <th>1</th>\n",
       "      <td>411612</td>\n",
       "      <td>56.117978</td>\n",
       "      <td>47.475212</td>\n",
       "      <td>42592.0</td>\n",
       "      <td>0.0</td>\n",
       "      <td>45041.0</td>\n",
       "      <td>1</td>\n",
       "      <td>47.877750</td>\n",
       "      <td>55.748322</td>\n",
       "    </tr>\n",
       "    <tr>\n",
       "      <th>2</th>\n",
       "      <td>616963</td>\n",
       "      <td>31.781375</td>\n",
       "      <td>2.905627</td>\n",
       "      <td>67258.0</td>\n",
       "      <td>0.0</td>\n",
       "      <td>4353273.0</td>\n",
       "      <td>0</td>\n",
       "      <td>35.446640</td>\n",
       "      <td>54.036610</td>\n",
       "    </tr>\n",
       "    <tr>\n",
       "      <th>3</th>\n",
       "      <td>419934</td>\n",
       "      <td>60.000674</td>\n",
       "      <td>30.264237</td>\n",
       "      <td>75541.0</td>\n",
       "      <td>0.0</td>\n",
       "      <td>17709.0</td>\n",
       "      <td>1</td>\n",
       "      <td>30.491623</td>\n",
       "      <td>59.912495</td>\n",
       "    </tr>\n",
       "    <tr>\n",
       "      <th>4</th>\n",
       "      <td>407995</td>\n",
       "      <td>55.708998</td>\n",
       "      <td>37.620635</td>\n",
       "      <td>73061.0</td>\n",
       "      <td>0.0</td>\n",
       "      <td>6397.0</td>\n",
       "      <td>1</td>\n",
       "      <td>37.552544</td>\n",
       "      <td>55.744450</td>\n",
       "    </tr>\n",
       "  </tbody>\n",
       "</table>\n",
       "</div>"
      ],
      "text/plain": [
       "   merchant_id   latitude  longitude  real_transaction_dttm  record_delay  \\\n",
       "0      1150899  46.498337  13.507997                39293.0           0.0   \n",
       "1       411612  56.117978  47.475212                42592.0           0.0   \n",
       "2       616963  31.781375   2.905627                67258.0           0.0   \n",
       "3       419934  60.000674  30.264237                75541.0           0.0   \n",
       "4       407995  55.708998  37.620635                73061.0           0.0   \n",
       "\n",
       "        dist  is_in_area  longitude_origin  latitude_origin  \n",
       "0  2517926.0           0         40.202568        47.123615  \n",
       "1    45041.0           1         47.877750        55.748322  \n",
       "2  4353273.0           0         35.446640        54.036610  \n",
       "3    17709.0           1         30.491623        59.912495  \n",
       "4     6397.0           1         37.552544        55.744450  "
      ]
     },
     "execution_count": 91,
     "metadata": {},
     "output_type": "execute_result"
    }
   ],
   "source": [
    "test['latitude_origin'] = pred_lat\n",
    "test.head()"
   ]
  },
  {
   "cell_type": "code",
   "execution_count": 92,
   "metadata": {
    "collapsed": false
   },
   "outputs": [
    {
     "data": {
      "image/png": "[encoded data removed]",
      "text/plain": [
       "<matplotlib.figure.Figure at 0x119f62128>"
      ]
     },
     "metadata": {},
     "output_type": "display_data"
    }
   ],
   "source": [
    "draw_coordinates(test)"
   ]
  },
  {
   "cell_type": "code",
   "execution_count": 102,
   "metadata": {
    "collapsed": true
   },
   "outputs": [],
   "source": [
    "test.to_csv('data/test_with_predicted_lat_lon.csv.gz', compression='gzip', index=False)"
   ]
  }
 ],
 "metadata": {
  "kernelspec": {
   "display_name": "Python 3",
   "language": "python",
   "name": "python3"
  },
  "language_info": {
   "codemirror_mode": {
    "name": "ipython",
    "version": 3
   },
   "file_extension": ".py",
   "mimetype": "text/x-python",
   "name": "python",
   "nbconvert_exporter": "python",
   "pygments_lexer": "ipython3",
   "version": "3.5.2"
  }
 },
 "nbformat": 4,
 "nbformat_minor": 0
}
