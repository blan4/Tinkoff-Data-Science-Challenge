{
 "cells": [
  {
   "cell_type": "code",
   "execution_count": 1,
   "metadata": {
    "collapsed": true
   },
   "outputs": [],
   "source": [
    "%matplotlib inline\n",
    "import pandas as pd\n",
    "import numpy as np\n",
    "import matplotlib.pyplot as plt\n",
    "import seaborn as sns\n",
    "plt.rcParams['figure.figsize'] = (15, 10)"
   ]
  },
  {
   "cell_type": "code",
   "execution_count": 2,
   "metadata": {
    "collapsed": false
   },
   "outputs": [],
   "source": [
    "train = pd.read_csv('data/credit_train_final.csv.zip', index_col='client_id', compression='gzip')\n",
    "test = pd.read_csv('data/credit_test_final.csv.zip', index_col='client_id', compression='gzip')"
   ]
  },
  {
   "cell_type": "code",
   "execution_count": 3,
   "metadata": {
    "collapsed": false
   },
   "outputs": [
    {
     "data": {
      "text/plain": [
       "Index(['age', 'credit_month', 'credit_sum', 'education', 'gender',\n",
       "       'job_position', 'marital_status', 'monthly_income', 'open_account_flg',\n",
       "       'score_shk', 'tariff_id', 'lat', 'lon', 'overdue_credit_count',\n",
       "       'credit_count', 'living_region'],\n",
       "      dtype='object')"
      ]
     },
     "execution_count": 3,
     "metadata": {},
     "output_type": "execute_result"
    }
   ],
   "source": [
    "train.columns"
   ]
  },
  {
   "cell_type": "code",
   "execution_count": 4,
   "metadata": {
    "collapsed": false
   },
   "outputs": [
    {
     "data": {
      "text/html": [
       "<div>\n",
       "<table border=\"1\" class=\"dataframe\">\n",
       "  <thead>\n",
       "    <tr style=\"text-align: right;\">\n",
       "      <th></th>\n",
       "      <th>age</th>\n",
       "      <th>credit_month</th>\n",
       "      <th>credit_sum</th>\n",
       "      <th>monthly_income</th>\n",
       "      <th>open_account_flg</th>\n",
       "      <th>score_shk</th>\n",
       "      <th>lat</th>\n",
       "      <th>lon</th>\n",
       "      <th>overdue_credit_count</th>\n",
       "      <th>credit_count</th>\n",
       "    </tr>\n",
       "  </thead>\n",
       "  <tbody>\n",
       "    <tr>\n",
       "      <th>count</th>\n",
       "      <td>140690.000000</td>\n",
       "      <td>140690.000000</td>\n",
       "      <td>140690.000000</td>\n",
       "      <td>140690.000000</td>\n",
       "      <td>140690.0</td>\n",
       "      <td>140690.000000</td>\n",
       "      <td>140690.000000</td>\n",
       "      <td>140690.000000</td>\n",
       "      <td>140690.000000</td>\n",
       "      <td>140690.000000</td>\n",
       "    </tr>\n",
       "    <tr>\n",
       "      <th>mean</th>\n",
       "      <td>36.648703</td>\n",
       "      <td>10.938560</td>\n",
       "      <td>26635.610440</td>\n",
       "      <td>40412.520129</td>\n",
       "      <td>0.0</td>\n",
       "      <td>0.466677</td>\n",
       "      <td>55.357849</td>\n",
       "      <td>54.476893</td>\n",
       "      <td>0.044172</td>\n",
       "      <td>2.055274</td>\n",
       "    </tr>\n",
       "    <tr>\n",
       "      <th>std</th>\n",
       "      <td>10.341581</td>\n",
       "      <td>3.410549</td>\n",
       "      <td>16459.360531</td>\n",
       "      <td>25402.503007</td>\n",
       "      <td>0.0</td>\n",
       "      <td>0.123417</td>\n",
       "      <td>5.282834</td>\n",
       "      <td>25.037037</td>\n",
       "      <td>0.202518</td>\n",
       "      <td>1.722167</td>\n",
       "    </tr>\n",
       "    <tr>\n",
       "      <th>min</th>\n",
       "      <td>18.000000</td>\n",
       "      <td>3.000000</td>\n",
       "      <td>2736.000000</td>\n",
       "      <td>5000.000000</td>\n",
       "      <td>0.0</td>\n",
       "      <td>0.000000</td>\n",
       "      <td>42.869937</td>\n",
       "      <td>21.229930</td>\n",
       "      <td>0.000000</td>\n",
       "      <td>0.000000</td>\n",
       "    </tr>\n",
       "    <tr>\n",
       "      <th>25%</th>\n",
       "      <td>28.000000</td>\n",
       "      <td>10.000000</td>\n",
       "      <td>15043.000000</td>\n",
       "      <td>25000.000000</td>\n",
       "      <td>0.0</td>\n",
       "      <td>0.376467</td>\n",
       "      <td>53.276350</td>\n",
       "      <td>37.617635</td>\n",
       "      <td>0.000000</td>\n",
       "      <td>1.000000</td>\n",
       "    </tr>\n",
       "    <tr>\n",
       "      <th>50%</th>\n",
       "      <td>35.000000</td>\n",
       "      <td>10.000000</td>\n",
       "      <td>21600.000000</td>\n",
       "      <td>35000.000000</td>\n",
       "      <td>0.0</td>\n",
       "      <td>0.458822</td>\n",
       "      <td>55.755814</td>\n",
       "      <td>44.634151</td>\n",
       "      <td>0.000000</td>\n",
       "      <td>2.000000</td>\n",
       "    </tr>\n",
       "    <tr>\n",
       "      <th>75%</th>\n",
       "      <td>43.000000</td>\n",
       "      <td>12.000000</td>\n",
       "      <td>32990.000000</td>\n",
       "      <td>50000.000000</td>\n",
       "      <td>0.0</td>\n",
       "      <td>0.550309</td>\n",
       "      <td>58.586755</td>\n",
       "      <td>60.395641</td>\n",
       "      <td>0.000000</td>\n",
       "      <td>3.000000</td>\n",
       "    </tr>\n",
       "    <tr>\n",
       "      <th>max</th>\n",
       "      <td>71.000000</td>\n",
       "      <td>36.000000</td>\n",
       "      <td>200000.000000</td>\n",
       "      <td>950000.000000</td>\n",
       "      <td>0.0</td>\n",
       "      <td>1.128291</td>\n",
       "      <td>67.714212</td>\n",
       "      <td>174.432311</td>\n",
       "      <td>3.000000</td>\n",
       "      <td>19.000000</td>\n",
       "    </tr>\n",
       "  </tbody>\n",
       "</table>\n",
       "</div>"
      ],
      "text/plain": [
       "                 age   credit_month     credit_sum  monthly_income  \\\n",
       "count  140690.000000  140690.000000  140690.000000   140690.000000   \n",
       "mean       36.648703      10.938560   26635.610440    40412.520129   \n",
       "std        10.341581       3.410549   16459.360531    25402.503007   \n",
       "min        18.000000       3.000000    2736.000000     5000.000000   \n",
       "25%        28.000000      10.000000   15043.000000    25000.000000   \n",
       "50%        35.000000      10.000000   21600.000000    35000.000000   \n",
       "75%        43.000000      12.000000   32990.000000    50000.000000   \n",
       "max        71.000000      36.000000  200000.000000   950000.000000   \n",
       "\n",
       "       open_account_flg      score_shk            lat            lon  \\\n",
       "count          140690.0  140690.000000  140690.000000  140690.000000   \n",
       "mean                0.0       0.466677      55.357849      54.476893   \n",
       "std                 0.0       0.123417       5.282834      25.037037   \n",
       "min                 0.0       0.000000      42.869937      21.229930   \n",
       "25%                 0.0       0.376467      53.276350      37.617635   \n",
       "50%                 0.0       0.458822      55.755814      44.634151   \n",
       "75%                 0.0       0.550309      58.586755      60.395641   \n",
       "max                 0.0       1.128291      67.714212     174.432311   \n",
       "\n",
       "       overdue_credit_count   credit_count  \n",
       "count         140690.000000  140690.000000  \n",
       "mean               0.044172       2.055274  \n",
       "std                0.202518       1.722167  \n",
       "min                0.000000       0.000000  \n",
       "25%                0.000000       1.000000  \n",
       "50%                0.000000       2.000000  \n",
       "75%                0.000000       3.000000  \n",
       "max                3.000000      19.000000  "
      ]
     },
     "execution_count": 4,
     "metadata": {},
     "output_type": "execute_result"
    }
   ],
   "source": [
    "train[train['open_account_flg'] == 0].describe()"
   ]
  },
  {
   "cell_type": "code",
   "execution_count": 5,
   "metadata": {
    "collapsed": false
   },
   "outputs": [
    {
     "data": {
      "text/html": [
       "<div>\n",
       "<table border=\"1\" class=\"dataframe\">\n",
       "  <thead>\n",
       "    <tr style=\"text-align: right;\">\n",
       "      <th></th>\n",
       "      <th>age</th>\n",
       "      <th>credit_month</th>\n",
       "      <th>credit_sum</th>\n",
       "      <th>monthly_income</th>\n",
       "      <th>open_account_flg</th>\n",
       "      <th>score_shk</th>\n",
       "      <th>lat</th>\n",
       "      <th>lon</th>\n",
       "      <th>overdue_credit_count</th>\n",
       "      <th>credit_count</th>\n",
       "    </tr>\n",
       "  </thead>\n",
       "  <tbody>\n",
       "    <tr>\n",
       "      <th>count</th>\n",
       "      <td>30056.000000</td>\n",
       "      <td>30056.000000</td>\n",
       "      <td>30056.000000</td>\n",
       "      <td>30056.000000</td>\n",
       "      <td>30056.0</td>\n",
       "      <td>30056.000000</td>\n",
       "      <td>30056.000000</td>\n",
       "      <td>30056.000000</td>\n",
       "      <td>30056.000000</td>\n",
       "      <td>30056.000000</td>\n",
       "    </tr>\n",
       "    <tr>\n",
       "      <th>mean</th>\n",
       "      <td>35.788495</td>\n",
       "      <td>11.178234</td>\n",
       "      <td>23564.712491</td>\n",
       "      <td>38854.457945</td>\n",
       "      <td>1.0</td>\n",
       "      <td>0.482562</td>\n",
       "      <td>55.380273</td>\n",
       "      <td>56.631279</td>\n",
       "      <td>0.054509</td>\n",
       "      <td>2.146883</td>\n",
       "    </tr>\n",
       "    <tr>\n",
       "      <th>std</th>\n",
       "      <td>11.428049</td>\n",
       "      <td>4.069853</td>\n",
       "      <td>14880.805257</td>\n",
       "      <td>23250.872620</td>\n",
       "      <td>0.0</td>\n",
       "      <td>0.127364</td>\n",
       "      <td>5.412849</td>\n",
       "      <td>27.189832</td>\n",
       "      <td>0.222116</td>\n",
       "      <td>1.818152</td>\n",
       "    </tr>\n",
       "    <tr>\n",
       "      <th>min</th>\n",
       "      <td>18.000000</td>\n",
       "      <td>3.000000</td>\n",
       "      <td>3000.000000</td>\n",
       "      <td>5000.000000</td>\n",
       "      <td>1.0</td>\n",
       "      <td>0.072468</td>\n",
       "      <td>42.869937</td>\n",
       "      <td>21.229930</td>\n",
       "      <td>0.000000</td>\n",
       "      <td>0.000000</td>\n",
       "    </tr>\n",
       "    <tr>\n",
       "      <th>25%</th>\n",
       "      <td>27.000000</td>\n",
       "      <td>10.000000</td>\n",
       "      <td>13826.785000</td>\n",
       "      <td>25000.000000</td>\n",
       "      <td>1.0</td>\n",
       "      <td>0.393612</td>\n",
       "      <td>53.276350</td>\n",
       "      <td>37.617635</td>\n",
       "      <td>0.000000</td>\n",
       "      <td>1.000000</td>\n",
       "    </tr>\n",
       "    <tr>\n",
       "      <th>50%</th>\n",
       "      <td>33.000000</td>\n",
       "      <td>10.000000</td>\n",
       "      <td>19789.000000</td>\n",
       "      <td>35000.000000</td>\n",
       "      <td>1.0</td>\n",
       "      <td>0.473374</td>\n",
       "      <td>55.755814</td>\n",
       "      <td>45.063654</td>\n",
       "      <td>0.000000</td>\n",
       "      <td>2.000000</td>\n",
       "    </tr>\n",
       "    <tr>\n",
       "      <th>75%</th>\n",
       "      <td>43.000000</td>\n",
       "      <td>12.000000</td>\n",
       "      <td>28778.000000</td>\n",
       "      <td>48000.000000</td>\n",
       "      <td>1.0</td>\n",
       "      <td>0.562660</td>\n",
       "      <td>58.586755</td>\n",
       "      <td>61.530761</td>\n",
       "      <td>0.000000</td>\n",
       "      <td>3.000000</td>\n",
       "    </tr>\n",
       "    <tr>\n",
       "      <th>max</th>\n",
       "      <td>71.000000</td>\n",
       "      <td>36.000000</td>\n",
       "      <td>174000.000000</td>\n",
       "      <td>500000.000000</td>\n",
       "      <td>1.0</td>\n",
       "      <td>1.054699</td>\n",
       "      <td>67.714212</td>\n",
       "      <td>174.432311</td>\n",
       "      <td>3.000000</td>\n",
       "      <td>21.000000</td>\n",
       "    </tr>\n",
       "  </tbody>\n",
       "</table>\n",
       "</div>"
      ],
      "text/plain": [
       "                age  credit_month     credit_sum  monthly_income  \\\n",
       "count  30056.000000  30056.000000   30056.000000    30056.000000   \n",
       "mean      35.788495     11.178234   23564.712491    38854.457945   \n",
       "std       11.428049      4.069853   14880.805257    23250.872620   \n",
       "min       18.000000      3.000000    3000.000000     5000.000000   \n",
       "25%       27.000000     10.000000   13826.785000    25000.000000   \n",
       "50%       33.000000     10.000000   19789.000000    35000.000000   \n",
       "75%       43.000000     12.000000   28778.000000    48000.000000   \n",
       "max       71.000000     36.000000  174000.000000   500000.000000   \n",
       "\n",
       "       open_account_flg     score_shk           lat           lon  \\\n",
       "count           30056.0  30056.000000  30056.000000  30056.000000   \n",
       "mean                1.0      0.482562     55.380273     56.631279   \n",
       "std                 0.0      0.127364      5.412849     27.189832   \n",
       "min                 1.0      0.072468     42.869937     21.229930   \n",
       "25%                 1.0      0.393612     53.276350     37.617635   \n",
       "50%                 1.0      0.473374     55.755814     45.063654   \n",
       "75%                 1.0      0.562660     58.586755     61.530761   \n",
       "max                 1.0      1.054699     67.714212    174.432311   \n",
       "\n",
       "       overdue_credit_count  credit_count  \n",
       "count          30056.000000  30056.000000  \n",
       "mean               0.054509      2.146883  \n",
       "std                0.222116      1.818152  \n",
       "min                0.000000      0.000000  \n",
       "25%                0.000000      1.000000  \n",
       "50%                0.000000      2.000000  \n",
       "75%                0.000000      3.000000  \n",
       "max                3.000000     21.000000  "
      ]
     },
     "execution_count": 5,
     "metadata": {},
     "output_type": "execute_result"
    }
   ],
   "source": [
    "train[train['open_account_flg'] == 1].describe()"
   ]
  },
  {
   "cell_type": "code",
   "execution_count": 6,
   "metadata": {
    "collapsed": false
   },
   "outputs": [
    {
     "data": {
      "text/plain": [
       "1591"
      ]
     },
     "execution_count": 6,
     "metadata": {},
     "output_type": "execute_result"
    }
   ],
   "source": [
    "train['monthly_income'].unique().size"
   ]
  },
  {
   "cell_type": "code",
   "execution_count": 7,
   "metadata": {
    "collapsed": false
   },
   "outputs": [
    {
     "data": {
      "text/plain": [
       "<matplotlib.axes._subplots.AxesSubplot at 0x1129cda90>"
      ]
     },
     "execution_count": 7,
     "metadata": {},
     "output_type": "execute_result"
    },
    {
     "data": {
      "image/png": "[encoded data removed]",
      "text/plain": [
       "<matplotlib.figure.Figure at 0x112886ba8>"
      ]
     },
     "metadata": {},
     "output_type": "display_data"
    }
   ],
   "source": [
    "sns.stripplot(x='open_account_flg', y='monthly_income', data=train)"
   ]
  },
  {
   "cell_type": "code",
   "execution_count": 8,
   "metadata": {
    "collapsed": false
   },
   "outputs": [
    {
     "data": {
      "text/plain": [
       "906"
      ]
     },
     "execution_count": 8,
     "metadata": {},
     "output_type": "execute_result"
    }
   ],
   "source": [
    "np.round(np.power(train['monthly_income'], 0.25), decimals=2).unique().size"
   ]
  },
  {
   "cell_type": "code",
   "execution_count": 9,
   "metadata": {
    "collapsed": false
   },
   "outputs": [
    {
     "data": {
      "text/plain": [
       "42769"
      ]
     },
     "execution_count": 9,
     "metadata": {},
     "output_type": "execute_result"
    }
   ],
   "source": [
    "train['credit_sum'].unique().size"
   ]
  },
  {
   "cell_type": "code",
   "execution_count": 10,
   "metadata": {
    "collapsed": false
   },
   "outputs": [
    {
     "data": {
      "text/plain": [
       "34589"
      ]
     },
     "execution_count": 10,
     "metadata": {},
     "output_type": "execute_result"
    }
   ],
   "source": [
    "np.round(train['credit_sum'], 0).unique().size"
   ]
  },
  {
   "cell_type": "code",
   "execution_count": 11,
   "metadata": {
    "collapsed": false
   },
   "outputs": [
    {
     "data": {
      "text/plain": [
       "27498"
      ]
     },
     "execution_count": 11,
     "metadata": {},
     "output_type": "execute_result"
    }
   ],
   "source": [
    "np.round(train['credit_sum'] / 1.5, 0).unique().size"
   ]
  },
  {
   "cell_type": "code",
   "execution_count": 12,
   "metadata": {
    "collapsed": false,
    "scrolled": true
   },
   "outputs": [
    {
     "data": {
      "text/plain": [
       "21988"
      ]
     },
     "execution_count": 12,
     "metadata": {},
     "output_type": "execute_result"
    }
   ],
   "source": [
    "np.round(np.log(train['credit_sum']), decimals=4).unique().size"
   ]
  },
  {
   "cell_type": "code",
   "execution_count": 13,
   "metadata": {
    "collapsed": false
   },
   "outputs": [
    {
     "data": {
      "text/plain": [
       "54"
      ]
     },
     "execution_count": 13,
     "metadata": {},
     "output_type": "execute_result"
    }
   ],
   "source": [
    "train['age'].unique().size"
   ]
  },
  {
   "cell_type": "code",
   "execution_count": 14,
   "metadata": {
    "collapsed": false
   },
   "outputs": [
    {
     "data": {
      "text/plain": [
       "32"
      ]
     },
     "execution_count": 14,
     "metadata": {},
     "output_type": "execute_result"
    }
   ],
   "source": [
    "np.round(np.power(train['age'], 0.45), decimals=1).unique().size"
   ]
  },
  {
   "cell_type": "code",
   "execution_count": 15,
   "metadata": {
    "collapsed": false
   },
   "outputs": [
    {
     "name": "stdout",
     "output_type": "stream",
     "text": [
      "289\n"
     ]
    },
    {
     "data": {
      "text/plain": [
       "238"
      ]
     },
     "execution_count": 15,
     "metadata": {},
     "output_type": "execute_result"
    }
   ],
   "source": [
    "print(train['lat'].unique().size)\n",
    "np.round(train['lat'], decimals=2).unique().size"
   ]
  },
  {
   "cell_type": "code",
   "execution_count": 16,
   "metadata": {
    "collapsed": false
   },
   "outputs": [
    {
     "data": {
      "text/plain": [
       "<matplotlib.axes._subplots.AxesSubplot at 0x10e1e1cf8>"
      ]
     },
     "execution_count": 16,
     "metadata": {},
     "output_type": "execute_result"
    },
    {
     "data": {
      "image/png": "[encoded data removed]",
      "text/plain": [
       "<matplotlib.figure.Figure at 0x10e1ee1d0>"
      ]
     },
     "metadata": {},
     "output_type": "display_data"
    }
   ],
   "source": [
    "sns.stripplot(x='open_account_flg', y='lat', data=train)"
   ]
  },
  {
   "cell_type": "code",
   "execution_count": 17,
   "metadata": {
    "collapsed": false
   },
   "outputs": [
    {
     "data": {
      "text/plain": [
       "<matplotlib.axes._subplots.AxesSubplot at 0x112d56e10>"
      ]
     },
     "execution_count": 17,
     "metadata": {},
     "output_type": "execute_result"
    },
    {
     "data": {
      "image/png": "[encoded data removed]",
      "text/plain": [
       "<matplotlib.figure.Figure at 0x112d5f390>"
      ]
     },
     "metadata": {},
     "output_type": "display_data"
    }
   ],
   "source": [
    "sns.stripplot(x='open_account_flg', y='credit_count', data=train)"
   ]
  },
  {
   "cell_type": "code",
   "execution_count": 18,
   "metadata": {
    "collapsed": false
   },
   "outputs": [
    {
     "name": "stdout",
     "output_type": "stream",
     "text": [
      "9114\n",
      "[  1.   2.   5.   0.   3.   7.   4.   6.   8.  10.   9.  12.  11.  14.  15.\n",
      "  13.  16.  19.  17.  18.  21.]\n",
      "21\n"
     ]
    }
   ],
   "source": [
    "print(train['credit_count'].unique().size) # 9114!!! ЧТО?????\n",
    "print(np.round(train['credit_count'], 0).unique())\n",
    "print(np.round(train['credit_count'], 0).unique().size)"
   ]
  },
  {
   "cell_type": "code",
   "execution_count": 19,
   "metadata": {
    "collapsed": false
   },
   "outputs": [
    {
     "name": "stdout",
     "output_type": "stream",
     "text": [
      "6857\n",
      "[ 1.  0.  2.  3.]\n",
      "4\n"
     ]
    }
   ],
   "source": [
    "print(train['overdue_credit_count'].unique().size) # 6857?!!\n",
    "print(np.round(train['overdue_credit_count'], 0).unique())\n",
    "print(np.round(train['overdue_credit_count'], 0).unique().size)"
   ]
  },
  {
   "cell_type": "code",
   "execution_count": 20,
   "metadata": {
    "collapsed": false
   },
   "outputs": [
    {
     "data": {
      "text/plain": [
       "60167"
      ]
     },
     "execution_count": 20,
     "metadata": {},
     "output_type": "execute_result"
    }
   ],
   "source": [
    "(train['credit_sum'] / train['credit_month']).unique().size"
   ]
  },
  {
   "cell_type": "code",
   "execution_count": 21,
   "metadata": {
    "collapsed": false
   },
   "outputs": [
    {
     "data": {
      "text/plain": [
       "37726"
      ]
     },
     "execution_count": 21,
     "metadata": {},
     "output_type": "execute_result"
    }
   ],
   "source": [
    "np.round(train['credit_sum'] / train['credit_month'], 1).unique().size"
   ]
  },
  {
   "cell_type": "code",
   "execution_count": 22,
   "metadata": {
    "collapsed": true
   },
   "outputs": [],
   "source": [
    "def optimize(data):\n",
    "    data['monthly_income'] = np.round(np.power(data['monthly_income'], 0.25), decimals=2)\n",
    "    data['credit_sum'] = np.round(np.log(data['credit_sum']), decimals=4)\n",
    "    data['age'] = np.round(np.power(data['age'], 0.45), decimals=1)\n",
    "    data['lat'] = np.round(data['lat'], decimals=2)\n",
    "    data['lon'] = np.round(data['lon'], decimals=2)\n",
    "    data['credit_count'] = np.round(data['credit_count'], 0)\n",
    "    data['overdue_credit_count'] = np.round(data['overdue_credit_count'], 0)"
   ]
  },
  {
   "cell_type": "code",
   "execution_count": 23,
   "metadata": {
    "collapsed": true
   },
   "outputs": [],
   "source": [
    "def generate_new_values(data):\n",
    "    data['monthly_credit'] = np.round((data['credit_sum'] / data['credit_month']).fillna(0), 1)\n",
    "    data['credit_count_ratio'] = (data['overdue_credit_count'] / data['credit_count']).fillna(0)\n",
    "    data['credit_income_ratio'] = np.round((data['monthly_income'] / data['monthly_credit']).fillna(0), 1)"
   ]
  },
  {
   "cell_type": "code",
   "execution_count": 24,
   "metadata": {
    "collapsed": false
   },
   "outputs": [],
   "source": [
    "generate_new_values(train)\n",
    "generate_new_values(test)\n",
    "\n",
    "optimize(train)\n",
    "optimize(test)"
   ]
  },
  {
   "cell_type": "code",
   "execution_count": 25,
   "metadata": {
    "collapsed": false
   },
   "outputs": [
    {
     "data": {
      "text/html": [
       "<div>\n",
       "<table border=\"1\" class=\"dataframe\">\n",
       "  <thead>\n",
       "    <tr style=\"text-align: right;\">\n",
       "      <th></th>\n",
       "      <th>age</th>\n",
       "      <th>credit_month</th>\n",
       "      <th>credit_sum</th>\n",
       "      <th>education</th>\n",
       "      <th>gender</th>\n",
       "      <th>job_position</th>\n",
       "      <th>marital_status</th>\n",
       "      <th>monthly_income</th>\n",
       "      <th>open_account_flg</th>\n",
       "      <th>score_shk</th>\n",
       "      <th>tariff_id</th>\n",
       "      <th>lat</th>\n",
       "      <th>lon</th>\n",
       "      <th>overdue_credit_count</th>\n",
       "      <th>credit_count</th>\n",
       "      <th>living_region</th>\n",
       "      <th>monthly_credit</th>\n",
       "      <th>credit_count_ratio</th>\n",
       "      <th>credit_income_ratio</th>\n",
       "    </tr>\n",
       "    <tr>\n",
       "      <th>client_id</th>\n",
       "      <th></th>\n",
       "      <th></th>\n",
       "      <th></th>\n",
       "      <th></th>\n",
       "      <th></th>\n",
       "      <th></th>\n",
       "      <th></th>\n",
       "      <th></th>\n",
       "      <th></th>\n",
       "      <th></th>\n",
       "      <th></th>\n",
       "      <th></th>\n",
       "      <th></th>\n",
       "      <th></th>\n",
       "      <th></th>\n",
       "      <th></th>\n",
       "      <th></th>\n",
       "      <th></th>\n",
       "      <th></th>\n",
       "    </tr>\n",
       "  </thead>\n",
       "  <tbody>\n",
       "    <tr>\n",
       "      <th>1</th>\n",
       "      <td>5.7</td>\n",
       "      <td>10</td>\n",
       "      <td>11.0021</td>\n",
       "      <td>GRD</td>\n",
       "      <td>M</td>\n",
       "      <td>UMN</td>\n",
       "      <td>MAR</td>\n",
       "      <td>13.16</td>\n",
       "      <td>0.0</td>\n",
       "      <td>0.770249</td>\n",
       "      <td>1,6</td>\n",
       "      <td>45.27</td>\n",
       "      <td>38.95</td>\n",
       "      <td>1.0</td>\n",
       "      <td>1.0</td>\n",
       "      <td>КРАСНОДАРСКИЙ</td>\n",
       "      <td>5999.8</td>\n",
       "      <td>1.0</td>\n",
       "      <td>5.0</td>\n",
       "    </tr>\n",
       "    <tr>\n",
       "      <th>2</th>\n",
       "      <td>4.5</td>\n",
       "      <td>6</td>\n",
       "      <td>9.2955</td>\n",
       "      <td>GRD</td>\n",
       "      <td>F</td>\n",
       "      <td>UMN</td>\n",
       "      <td>MAR</td>\n",
       "      <td>14.40</td>\n",
       "      <td>0.0</td>\n",
       "      <td>0.248514</td>\n",
       "      <td>1,1</td>\n",
       "      <td>55.76</td>\n",
       "      <td>37.62</td>\n",
       "      <td>0.0</td>\n",
       "      <td>2.0</td>\n",
       "      <td>МОСКОВСКАЯ</td>\n",
       "      <td>1814.8</td>\n",
       "      <td>0.0</td>\n",
       "      <td>23.7</td>\n",
       "    </tr>\n",
       "    <tr>\n",
       "      <th>3</th>\n",
       "      <td>4.8</td>\n",
       "      <td>12</td>\n",
       "      <td>9.2806</td>\n",
       "      <td>SCH</td>\n",
       "      <td>M</td>\n",
       "      <td>SPC</td>\n",
       "      <td>MAR</td>\n",
       "      <td>12.31</td>\n",
       "      <td>0.0</td>\n",
       "      <td>0.459589</td>\n",
       "      <td>1,1</td>\n",
       "      <td>51.58</td>\n",
       "      <td>46.80</td>\n",
       "      <td>0.0</td>\n",
       "      <td>5.0</td>\n",
       "      <td>САРАТОВСКАЯ</td>\n",
       "      <td>894.0</td>\n",
       "      <td>0.0</td>\n",
       "      <td>25.7</td>\n",
       "    </tr>\n",
       "    <tr>\n",
       "      <th>4</th>\n",
       "      <td>4.4</td>\n",
       "      <td>12</td>\n",
       "      <td>9.3934</td>\n",
       "      <td>GRD</td>\n",
       "      <td>F</td>\n",
       "      <td>SPC</td>\n",
       "      <td>DIV</td>\n",
       "      <td>11.42</td>\n",
       "      <td>0.0</td>\n",
       "      <td>0.362536</td>\n",
       "      <td>1,1</td>\n",
       "      <td>49.62</td>\n",
       "      <td>44.15</td>\n",
       "      <td>0.0</td>\n",
       "      <td>2.0</td>\n",
       "      <td>ВОЛГОГРАДСКАЯ</td>\n",
       "      <td>1000.8</td>\n",
       "      <td>0.0</td>\n",
       "      <td>17.0</td>\n",
       "    </tr>\n",
       "    <tr>\n",
       "      <th>5</th>\n",
       "      <td>5.5</td>\n",
       "      <td>10</td>\n",
       "      <td>9.7356</td>\n",
       "      <td>SCH</td>\n",
       "      <td>M</td>\n",
       "      <td>SPC</td>\n",
       "      <td>MAR</td>\n",
       "      <td>12.57</td>\n",
       "      <td>0.0</td>\n",
       "      <td>0.421385</td>\n",
       "      <td>1,1</td>\n",
       "      <td>54.45</td>\n",
       "      <td>60.40</td>\n",
       "      <td>0.0</td>\n",
       "      <td>1.0</td>\n",
       "      <td>ЧЕЛЯБИНСКАЯ</td>\n",
       "      <td>1690.9</td>\n",
       "      <td>0.0</td>\n",
       "      <td>14.8</td>\n",
       "    </tr>\n",
       "  </tbody>\n",
       "</table>\n",
       "</div>"
      ],
      "text/plain": [
       "           age  credit_month  credit_sum education gender job_position  \\\n",
       "client_id                                                                \n",
       "1          5.7            10     11.0021       GRD      M          UMN   \n",
       "2          4.5             6      9.2955       GRD      F          UMN   \n",
       "3          4.8            12      9.2806       SCH      M          SPC   \n",
       "4          4.4            12      9.3934       GRD      F          SPC   \n",
       "5          5.5            10      9.7356       SCH      M          SPC   \n",
       "\n",
       "          marital_status  monthly_income  open_account_flg  score_shk  \\\n",
       "client_id                                                               \n",
       "1                    MAR           13.16               0.0   0.770249   \n",
       "2                    MAR           14.40               0.0   0.248514   \n",
       "3                    MAR           12.31               0.0   0.459589   \n",
       "4                    DIV           11.42               0.0   0.362536   \n",
       "5                    MAR           12.57               0.0   0.421385   \n",
       "\n",
       "          tariff_id    lat    lon  overdue_credit_count  credit_count  \\\n",
       "client_id                                                               \n",
       "1               1,6  45.27  38.95                   1.0           1.0   \n",
       "2               1,1  55.76  37.62                   0.0           2.0   \n",
       "3               1,1  51.58  46.80                   0.0           5.0   \n",
       "4               1,1  49.62  44.15                   0.0           2.0   \n",
       "5               1,1  54.45  60.40                   0.0           1.0   \n",
       "\n",
       "           living_region  monthly_credit  credit_count_ratio  \\\n",
       "client_id                                                      \n",
       "1          КРАСНОДАРСКИЙ          5999.8                 1.0   \n",
       "2             МОСКОВСКАЯ          1814.8                 0.0   \n",
       "3            САРАТОВСКАЯ           894.0                 0.0   \n",
       "4          ВОЛГОГРАДСКАЯ          1000.8                 0.0   \n",
       "5            ЧЕЛЯБИНСКАЯ          1690.9                 0.0   \n",
       "\n",
       "           credit_income_ratio  \n",
       "client_id                       \n",
       "1                          5.0  \n",
       "2                         23.7  \n",
       "3                         25.7  \n",
       "4                         17.0  \n",
       "5                         14.8  "
      ]
     },
     "execution_count": 25,
     "metadata": {},
     "output_type": "execute_result"
    }
   ],
   "source": [
    "train.head()"
   ]
  },
  {
   "cell_type": "code",
   "execution_count": 30,
   "metadata": {
    "collapsed": false
   },
   "outputs": [],
   "source": [
    "train['credit_count_ratio'] = (train['overdue_credit_count'] / train['credit_count']).fillna(0)"
   ]
  },
  {
   "cell_type": "code",
   "execution_count": 32,
   "metadata": {
    "collapsed": true
   },
   "outputs": [],
   "source": [
    "train.to_csv('data/credit_train_final_optimized.csv.gz', compression='gzip')\n",
    "test.to_csv('data/credit_test_final_optimized.csv.gz', compression='gzip')"
   ]
  }
 ],
 "metadata": {
  "kernelspec": {
   "display_name": "Python 3",
   "language": "python",
   "name": "python3"
  },
  "language_info": {
   "codemirror_mode": {
    "name": "ipython",
    "version": 3
   },
   "file_extension": ".py",
   "mimetype": "text/x-python",
   "name": "python",
   "nbconvert_exporter": "python",
   "pygments_lexer": "ipython3",
   "version": "3.5.2"
  }
 },
 "nbformat": 4,
 "nbformat_minor": 0
}
