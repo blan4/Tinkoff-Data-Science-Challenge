{
 "cells": [
  {
   "cell_type": "code",
   "execution_count": 1,
   "metadata": {
    "collapsed": true
   },
   "outputs": [],
   "source": [
    "import pandas as pd\n",
    "import numpy as np\n",
    "import matplotlib.pyplot as plt\n",
    "import seaborn as sns\n",
    "%matplotlib inline\n",
    "from sklearn.ensemble import GradientBoostingClassifier\n",
    "from sklearn.ensemble import AdaBoostClassifier\n",
    "from sklearn.ensemble import VotingClassifier\n",
    "from sklearn.preprocessing import LabelEncoder\n",
    "from sklearn.model_selection import cross_val_score\n",
    "from sklearn.model_selection import StratifiedKFold\n",
    "from sklearn.preprocessing import StandardScaler\n",
    "from sklearn.linear_model import LogisticRegression\n",
    "from sklearn.naive_bayes import GaussianNB\n",
    "from sklearn.decomposition import PCA\n",
    "from sklearn.neural_network import MLPClassifier\n",
    "from sklearn.model_selection import GridSearchCV\n",
    "from sklearn.ensemble import RandomForestClassifier\n",
    "import xgboost as xgb"
   ]
  },
  {
   "cell_type": "code",
   "execution_count": 2,
   "metadata": {
    "collapsed": false
   },
   "outputs": [
    {
     "data": {
      "text/plain": [
       "Index(['age', 'credit_month', 'credit_sum', 'education', 'gender',\n",
       "       'job_position', 'marital_status', 'monthly_income', 'open_account_flg',\n",
       "       'score_shk', 'tariff_id', 'lat', 'lon', 'overdue_credit_count',\n",
       "       'credit_count', 'living_region', 'monthly_credit', 'credit_count_ratio',\n",
       "       'credit_income_ratio'],\n",
       "      dtype='object')"
      ]
     },
     "execution_count": 2,
     "metadata": {},
     "output_type": "execute_result"
    }
   ],
   "source": [
    "train = pd.read_csv('data/credit_train_final_optimized.csv.gz', index_col='client_id')\n",
    "test = pd.read_csv('data/credit_test_final_optimized.csv.gz', index_col='client_id')\n",
    "train.columns"
   ]
  },
  {
   "cell_type": "code",
   "execution_count": 3,
   "metadata": {
    "collapsed": true
   },
   "outputs": [],
   "source": [
    "def prepare_labels(train, test):\n",
    "    # нужно категориальные признаки пометить числами, а в тестовой выборке есть новые данные к сожалению\n",
    "    all_data = pd.concat([train, test])\n",
    "    for cat in ['education', 'gender', 'job_position', 'marital_status', 'education', 'tariff_id', 'living_region']:\n",
    "        all_data[cat] = LabelEncoder().fit_transform(all_data[cat])\n",
    "    return all_data.ix[train.index], all_data.ix[test.index]"
   ]
  },
  {
   "cell_type": "code",
   "execution_count": 4,
   "metadata": {
    "collapsed": true
   },
   "outputs": [],
   "source": [
    "def prepare_dummies(train, test):\n",
    "    all_data = pd.concat([train, test]).drop(['living_region'], axis=1)\n",
    "    all_data = pd.get_dummies(all_data, columns=['education', 'gender', 'job_position', 'marital_status', 'education', 'tariff_id'])\n",
    "    return all_data.ix[train.index], all_data.ix[test.index]"
   ]
  },
  {
   "cell_type": "code",
   "execution_count": 5,
   "metadata": {
    "collapsed": true
   },
   "outputs": [],
   "source": [
    "tr_d, te_d = prepare_dummies(train, test)\n",
    "te_d.fillna(0, inplace=True)\n",
    "te_d.drop(['living_region', 'open_account_flg'], axis=1, inplace=True)"
   ]
  },
  {
   "cell_type": "code",
   "execution_count": 6,
   "metadata": {
    "collapsed": true
   },
   "outputs": [],
   "source": [
    "tr, te = prepare_labels(train, test)\n",
    "te.fillna(0, inplace=True)\n",
    "te.drop(['living_region', 'open_account_flg'], axis=1, inplace=True)"
   ]
  },
  {
   "cell_type": "code",
   "execution_count": 7,
   "metadata": {
    "collapsed": false
   },
   "outputs": [],
   "source": [
    "X = tr.drop(['open_account_flg', 'living_region'], axis = 1)\n",
    "y = tr['open_account_flg']"
   ]
  },
  {
   "cell_type": "code",
   "execution_count": 8,
   "metadata": {
    "collapsed": true
   },
   "outputs": [],
   "source": [
    "X_d = tr_d.drop(['open_account_flg'], axis = 1)\n",
    "y_d = tr_d['open_account_flg']"
   ]
  },
  {
   "cell_type": "code",
   "execution_count": 9,
   "metadata": {
    "collapsed": false
   },
   "outputs": [],
   "source": [
    "def testClf(clf, X, y):\n",
    "    scores = cross_val_score(clf, X, y, cv=StratifiedKFold(n_splits=5, shuffle=True, random_state=42), scoring='roc_auc')\n",
    "    print(\"AUC: {} (+/- {})\".format(scores.mean(), scores.std() * 2))"
   ]
  },
  {
   "cell_type": "code",
   "execution_count": 10,
   "metadata": {
    "collapsed": false
   },
   "outputs": [
    {
     "data": {
      "text/html": [
       "<div>\n",
       "<table border=\"1\" class=\"dataframe\">\n",
       "  <thead>\n",
       "    <tr style=\"text-align: right;\">\n",
       "      <th></th>\n",
       "      <th>age</th>\n",
       "      <th>credit_count</th>\n",
       "      <th>credit_count_ratio</th>\n",
       "      <th>credit_income_ratio</th>\n",
       "      <th>credit_month</th>\n",
       "      <th>credit_sum</th>\n",
       "      <th>education</th>\n",
       "      <th>gender</th>\n",
       "      <th>job_position</th>\n",
       "      <th>lat</th>\n",
       "      <th>lon</th>\n",
       "      <th>marital_status</th>\n",
       "      <th>monthly_credit</th>\n",
       "      <th>monthly_income</th>\n",
       "      <th>overdue_credit_count</th>\n",
       "      <th>score_shk</th>\n",
       "      <th>tariff_id</th>\n",
       "    </tr>\n",
       "  </thead>\n",
       "  <tbody>\n",
       "    <tr>\n",
       "      <th>count</th>\n",
       "      <td>170746.000000</td>\n",
       "      <td>170746.000000</td>\n",
       "      <td>170746.000000</td>\n",
       "      <td>170746.000000</td>\n",
       "      <td>170746.000000</td>\n",
       "      <td>170746.000000</td>\n",
       "      <td>170746.000000</td>\n",
       "      <td>170746.000000</td>\n",
       "      <td>170746.000000</td>\n",
       "      <td>170746.000000</td>\n",
       "      <td>170746.000000</td>\n",
       "      <td>170746.000000</td>\n",
       "      <td>170746.000000</td>\n",
       "      <td>170746.000000</td>\n",
       "      <td>170746.000000</td>\n",
       "      <td>170746.000000</td>\n",
       "      <td>170746.000000</td>\n",
       "    </tr>\n",
       "    <tr>\n",
       "      <th>mean</th>\n",
       "      <td>5.003352</td>\n",
       "      <td>2.071674</td>\n",
       "      <td>0.016833</td>\n",
       "      <td>20.534932</td>\n",
       "      <td>10.980749</td>\n",
       "      <td>9.992663</td>\n",
       "      <td>2.202716</td>\n",
       "      <td>0.480532</td>\n",
       "      <td>12.160015</td>\n",
       "      <td>55.362687</td>\n",
       "      <td>54.856784</td>\n",
       "      <td>2.197586</td>\n",
       "      <td>2463.306220</td>\n",
       "      <td>13.797413</td>\n",
       "      <td>0.043579</td>\n",
       "      <td>0.469473</td>\n",
       "      <td>12.576980</td>\n",
       "    </tr>\n",
       "    <tr>\n",
       "      <th>std</th>\n",
       "      <td>0.638798</td>\n",
       "      <td>1.740467</td>\n",
       "      <td>0.094114</td>\n",
       "      <td>16.156323</td>\n",
       "      <td>3.536698</td>\n",
       "      <td>0.600467</td>\n",
       "      <td>1.064024</td>\n",
       "      <td>0.499622</td>\n",
       "      <td>3.132421</td>\n",
       "      <td>5.307008</td>\n",
       "      <td>25.442463</td>\n",
       "      <td>0.738562</td>\n",
       "      <td>1564.051379</td>\n",
       "      <td>1.774436</td>\n",
       "      <td>0.206014</td>\n",
       "      <td>0.124268</td>\n",
       "      <td>11.073903</td>\n",
       "    </tr>\n",
       "    <tr>\n",
       "      <th>min</th>\n",
       "      <td>3.700000</td>\n",
       "      <td>0.000000</td>\n",
       "      <td>0.000000</td>\n",
       "      <td>0.500000</td>\n",
       "      <td>3.000000</td>\n",
       "      <td>7.914300</td>\n",
       "      <td>0.000000</td>\n",
       "      <td>0.000000</td>\n",
       "      <td>0.000000</td>\n",
       "      <td>42.870000</td>\n",
       "      <td>21.230000</td>\n",
       "      <td>0.000000</td>\n",
       "      <td>104.700000</td>\n",
       "      <td>8.410000</td>\n",
       "      <td>0.000000</td>\n",
       "      <td>0.000000</td>\n",
       "      <td>0.000000</td>\n",
       "    </tr>\n",
       "    <tr>\n",
       "      <th>25%</th>\n",
       "      <td>4.500000</td>\n",
       "      <td>1.000000</td>\n",
       "      <td>0.000000</td>\n",
       "      <td>11.100000</td>\n",
       "      <td>10.000000</td>\n",
       "      <td>9.609700</td>\n",
       "      <td>1.000000</td>\n",
       "      <td>0.000000</td>\n",
       "      <td>13.000000</td>\n",
       "      <td>53.280000</td>\n",
       "      <td>37.620000</td>\n",
       "      <td>2.000000</td>\n",
       "      <td>1410.800000</td>\n",
       "      <td>12.570000</td>\n",
       "      <td>0.000000</td>\n",
       "      <td>0.379495</td>\n",
       "      <td>1.000000</td>\n",
       "    </tr>\n",
       "    <tr>\n",
       "      <th>50%</th>\n",
       "      <td>4.900000</td>\n",
       "      <td>2.000000</td>\n",
       "      <td>0.000000</td>\n",
       "      <td>16.600000</td>\n",
       "      <td>10.000000</td>\n",
       "      <td>9.963100</td>\n",
       "      <td>3.000000</td>\n",
       "      <td>0.000000</td>\n",
       "      <td>13.000000</td>\n",
       "      <td>55.760000</td>\n",
       "      <td>44.630000</td>\n",
       "      <td>2.000000</td>\n",
       "      <td>1990.750000</td>\n",
       "      <td>13.680000</td>\n",
       "      <td>0.000000</td>\n",
       "      <td>0.461599</td>\n",
       "      <td>17.000000</td>\n",
       "    </tr>\n",
       "    <tr>\n",
       "      <th>75%</th>\n",
       "      <td>5.400000</td>\n",
       "      <td>3.000000</td>\n",
       "      <td>0.000000</td>\n",
       "      <td>24.900000</td>\n",
       "      <td>12.000000</td>\n",
       "      <td>10.375600</td>\n",
       "      <td>3.000000</td>\n",
       "      <td>1.000000</td>\n",
       "      <td>13.000000</td>\n",
       "      <td>58.590000</td>\n",
       "      <td>61.530000</td>\n",
       "      <td>3.000000</td>\n",
       "      <td>2972.800000</td>\n",
       "      <td>14.950000</td>\n",
       "      <td>0.000000</td>\n",
       "      <td>0.552419</td>\n",
       "      <td>26.000000</td>\n",
       "    </tr>\n",
       "    <tr>\n",
       "      <th>max</th>\n",
       "      <td>6.800000</td>\n",
       "      <td>21.000000</td>\n",
       "      <td>1.000000</td>\n",
       "      <td>1022.800000</td>\n",
       "      <td>36.000000</td>\n",
       "      <td>12.206100</td>\n",
       "      <td>4.000000</td>\n",
       "      <td>1.000000</td>\n",
       "      <td>17.000000</td>\n",
       "      <td>67.710000</td>\n",
       "      <td>174.430000</td>\n",
       "      <td>4.000000</td>\n",
       "      <td>39966.700000</td>\n",
       "      <td>31.220000</td>\n",
       "      <td>3.000000</td>\n",
       "      <td>1.128291</td>\n",
       "      <td>31.000000</td>\n",
       "    </tr>\n",
       "  </tbody>\n",
       "</table>\n",
       "</div>"
      ],
      "text/plain": [
       "                 age   credit_count  credit_count_ratio  credit_income_ratio  \\\n",
       "count  170746.000000  170746.000000       170746.000000        170746.000000   \n",
       "mean        5.003352       2.071674            0.016833            20.534932   \n",
       "std         0.638798       1.740467            0.094114            16.156323   \n",
       "min         3.700000       0.000000            0.000000             0.500000   \n",
       "25%         4.500000       1.000000            0.000000            11.100000   \n",
       "50%         4.900000       2.000000            0.000000            16.600000   \n",
       "75%         5.400000       3.000000            0.000000            24.900000   \n",
       "max         6.800000      21.000000            1.000000          1022.800000   \n",
       "\n",
       "        credit_month     credit_sum      education         gender  \\\n",
       "count  170746.000000  170746.000000  170746.000000  170746.000000   \n",
       "mean       10.980749       9.992663       2.202716       0.480532   \n",
       "std         3.536698       0.600467       1.064024       0.499622   \n",
       "min         3.000000       7.914300       0.000000       0.000000   \n",
       "25%        10.000000       9.609700       1.000000       0.000000   \n",
       "50%        10.000000       9.963100       3.000000       0.000000   \n",
       "75%        12.000000      10.375600       3.000000       1.000000   \n",
       "max        36.000000      12.206100       4.000000       1.000000   \n",
       "\n",
       "        job_position            lat            lon  marital_status  \\\n",
       "count  170746.000000  170746.000000  170746.000000   170746.000000   \n",
       "mean       12.160015      55.362687      54.856784        2.197586   \n",
       "std         3.132421       5.307008      25.442463        0.738562   \n",
       "min         0.000000      42.870000      21.230000        0.000000   \n",
       "25%        13.000000      53.280000      37.620000        2.000000   \n",
       "50%        13.000000      55.760000      44.630000        2.000000   \n",
       "75%        13.000000      58.590000      61.530000        3.000000   \n",
       "max        17.000000      67.710000     174.430000        4.000000   \n",
       "\n",
       "       monthly_credit  monthly_income  overdue_credit_count      score_shk  \\\n",
       "count   170746.000000   170746.000000         170746.000000  170746.000000   \n",
       "mean      2463.306220       13.797413              0.043579       0.469473   \n",
       "std       1564.051379        1.774436              0.206014       0.124268   \n",
       "min        104.700000        8.410000              0.000000       0.000000   \n",
       "25%       1410.800000       12.570000              0.000000       0.379495   \n",
       "50%       1990.750000       13.680000              0.000000       0.461599   \n",
       "75%       2972.800000       14.950000              0.000000       0.552419   \n",
       "max      39966.700000       31.220000              3.000000       1.128291   \n",
       "\n",
       "           tariff_id  \n",
       "count  170746.000000  \n",
       "mean       12.576980  \n",
       "std        11.073903  \n",
       "min         0.000000  \n",
       "25%         1.000000  \n",
       "50%        17.000000  \n",
       "75%        26.000000  \n",
       "max        31.000000  "
      ]
     },
     "execution_count": 10,
     "metadata": {},
     "output_type": "execute_result"
    }
   ],
   "source": [
    "X.describe()"
   ]
  },
  {
   "cell_type": "code",
   "execution_count": 21,
   "metadata": {
    "collapsed": false
   },
   "outputs": [
    {
     "name": "stdout",
     "output_type": "stream",
     "text": [
      "AUC: 0.7417376453664434 (+/- 0.003921889022184429)\n",
      "CPU times: user 1min 33s, sys: 1.64 s, total: 1min 34s\n",
      "Wall time: 1min 39s\n"
     ]
    }
   ],
   "source": [
    "%time testClf(RandomForestClassifier(n_estimators=100, min_samples_split=5, max_leaf_nodes=60, max_depth=20), X, y)"
   ]
  },
  {
   "cell_type": "code",
   "execution_count": 22,
   "metadata": {
    "collapsed": false
   },
   "outputs": [
    {
     "data": {
      "text/plain": [
       "RandomForestClassifier(bootstrap=True, class_weight=None, criterion='gini',\n",
       "            max_depth=20, max_features='auto', max_leaf_nodes=60,\n",
       "            min_impurity_split=1e-07, min_samples_leaf=1,\n",
       "            min_samples_split=5, min_weight_fraction_leaf=0.0,\n",
       "            n_estimators=100, n_jobs=1, oob_score=False, random_state=None,\n",
       "            verbose=0, warm_start=False)"
      ]
     },
     "execution_count": 22,
     "metadata": {},
     "output_type": "execute_result"
    }
   ],
   "source": [
    "rfc = RandomForestClassifier(n_estimators=100, min_samples_split=5, max_leaf_nodes=60, max_depth=20)\n",
    "rfc.fit(X, y)"
   ]
  },
  {
   "cell_type": "code",
   "execution_count": 11,
   "metadata": {
    "collapsed": false
   },
   "outputs": [],
   "source": [
    "def describeImportance(clf, X):\n",
    "    indices = np.argsort(clf.feature_importances_)[::-1]\n",
    "    for f in range(X.shape[1]):\n",
    "        print('%d. feature %s (%f)' % (f + 1, X.columns[indices[f]],\n",
    "                                          clf.feature_importances_[indices[f]]))"
   ]
  },
  {
   "cell_type": "code",
   "execution_count": 59,
   "metadata": {
    "collapsed": false
   },
   "outputs": [
    {
     "name": "stdout",
     "output_type": "stream",
     "text": [
      "1. feature tariff_id (0.363890)\n",
      "2. feature age (0.131619)\n",
      "3. feature credit_month (0.124891)\n",
      "4. feature score_shk (0.088131)\n",
      "5. feature credit_sum (0.078717)\n",
      "6. feature monthly_credit (0.063247)\n",
      "7. feature education (0.049782)\n",
      "8. feature job_position (0.030525)\n",
      "9. feature marital_status (0.021316)\n",
      "10. feature gender (0.012706)\n",
      "11. feature credit_income_ratio (0.012057)\n",
      "12. feature lon (0.008580)\n",
      "13. feature credit_count (0.006755)\n",
      "14. feature lat (0.003484)\n",
      "15. feature monthly_income (0.003476)\n",
      "16. feature credit_count_ratio (0.000484)\n",
      "17. feature overdue_credit_count (0.000340)\n"
     ]
    }
   ],
   "source": [
    "describeImportance(rfc, X.drop(['living_region'], axis=1))"
   ]
  },
  {
   "cell_type": "code",
   "execution_count": 85,
   "metadata": {
    "collapsed": false
   },
   "outputs": [
    {
     "name": "stdout",
     "output_type": "stream",
     "text": [
      "AUC: 0.7151334916137858 (+/- 0.002493764669875866)\n",
      "CPU times: user 10.2 s, sys: 1.02 s, total: 11.2 s\n",
      "Wall time: 11.5 s\n"
     ]
    }
   ],
   "source": [
    "XX = StandardScaler().fit_transform(X_d)\n",
    "%time testClf(LogisticRegression(C=0.001), XX, y_d)"
   ]
  },
  {
   "cell_type": "code",
   "execution_count": 86,
   "metadata": {
    "collapsed": false
   },
   "outputs": [
    {
     "data": {
      "text/plain": [
       "LogisticRegression(C=0.001, class_weight=None, dual=False, fit_intercept=True,\n",
       "          intercept_scaling=1, max_iter=100, multi_class='ovr', n_jobs=1,\n",
       "          penalty='l2', random_state=None, solver='liblinear', tol=0.0001,\n",
       "          verbose=0, warm_start=False)"
      ]
     },
     "execution_count": 86,
     "metadata": {},
     "output_type": "execute_result"
    }
   ],
   "source": [
    "lrc = LogisticRegression(C=0.001)\n",
    "lrc.fit(XX, y_d)"
   ]
  },
  {
   "cell_type": "code",
   "execution_count": 73,
   "metadata": {
    "collapsed": false
   },
   "outputs": [
    {
     "name": "stdout",
     "output_type": "stream",
     "text": [
      "AUC: 0.599958401216734 (+/- 0.007839782691710186)\n",
      "CPU times: user 4.45 s, sys: 181 ms, total: 4.63 s\n",
      "Wall time: 4.68 s\n"
     ]
    }
   ],
   "source": [
    "sScaler = StandardScaler(copy=True, with_mean=True, with_std=True)\n",
    "xScaled = sScaler.fit_transform(X_d)\n",
    "forPca = pd.DataFrame(xScaled)\n",
    "\n",
    "pcaMod = PCA(n_components=10)\n",
    "xPca = pcaMod.fit_transform(X_d)\n",
    "\n",
    "%time testClf(LogisticRegression(C=0.001), xPca, y_d)"
   ]
  },
  {
   "cell_type": "code",
   "execution_count": 105,
   "metadata": {
    "collapsed": false
   },
   "outputs": [
    {
     "name": "stdout",
     "output_type": "stream",
     "text": [
      "AUC: 0.6107287671860239 (+/- 0.007682263961415929)\n",
      "CPU times: user 1.21 s, sys: 272 ms, total: 1.48 s\n",
      "Wall time: 1.51 s\n"
     ]
    }
   ],
   "source": [
    "%time testClf(GaussianNB(), X_d, y_d)"
   ]
  },
  {
   "cell_type": "code",
   "execution_count": 81,
   "metadata": {
    "collapsed": false
   },
   "outputs": [
    {
     "name": "stdout",
     "output_type": "stream",
     "text": [
      "AUC: 0.6441133831112698 (+/- 0.06955015099955547)\n",
      "CPU times: user 53.9 s, sys: 5.91 s, total: 59.8 s\n",
      "Wall time: 52.1 s\n"
     ]
    }
   ],
   "source": [
    "%time testClf(MLPClassifier(),X_d, y_d)"
   ]
  },
  {
   "cell_type": "code",
   "execution_count": 18,
   "metadata": {
    "collapsed": false
   },
   "outputs": [
    {
     "name": "stdout",
     "output_type": "stream",
     "text": [
      "CPU times: user 11min 27s, sys: 4min 3s, total: 15min 30s\n",
      "Wall time: 10min 6s\n",
      "Best score: 0.8239783069588746\n",
      "Best parameters: {'hidden_layer_sizes': 9, 'alpha': 1.0000000000000001e-05, 'max_iter': 1500, 'solver': 'lbfgs'}\n"
     ]
    }
   ],
   "source": [
    "mlpParams = {'solver': ['lbfgs'], 'max_iter': [1500], 'alpha': 10.0 ** -np.arange(1, 7), 'hidden_layer_sizes':np.arange(5, 12)}\n",
    "\n",
    "gridMLP = GridSearchCV(MLPClassifier(), mlpParams)\n",
    "%time gridMLP.fit(X, y)\n",
    "print('Best score: {}'.format(gridMLP.best_score_))\n",
    "print('Best parameters: {}'.format(gridMLP.best_params_))\n",
    "# оверфит!"
   ]
  },
  {
   "cell_type": "code",
   "execution_count": 82,
   "metadata": {
    "collapsed": false
   },
   "outputs": [
    {
     "data": {
      "text/plain": [
       "array([ 0.88803218,  0.83596163,  0.70590088, ...,  0.92437903,\n",
       "        0.83619413,  0.87375662])"
      ]
     },
     "execution_count": 82,
     "metadata": {},
     "output_type": "execute_result"
    }
   ],
   "source": [
    "rfc.predict_proba(te)[:, 0]"
   ]
  },
  {
   "cell_type": "code",
   "execution_count": 88,
   "metadata": {
    "collapsed": false
   },
   "outputs": [],
   "source": [
    "pred_lrc=lrc.predict_proba(te_d)[:, 0]\n",
    "# !!!!!!!!!!!!!!! фуфло"
   ]
  },
  {
   "cell_type": "code",
   "execution_count": 94,
   "metadata": {
    "collapsed": false
   },
   "outputs": [
    {
     "data": {
      "text/plain": [
       "{0.0,\n",
       " 2.2204460492503131e-16,\n",
       " 8.8817841970012523e-16,\n",
       " 5.1070259132757201e-15,\n",
       " 6.4392935428259079e-15,\n",
       " 8.4376949871511897e-15,\n",
       " 1.5099033134902129e-14,\n",
       " 2.3225865675158275e-13,\n",
       " 2.6645352591003757e-13,\n",
       " 1.6550893988664939e-10,\n",
       " 6.8036198896948008e-10,\n",
       " 7.1252472810812151e-09,\n",
       " 1.1946775069215931e-07}"
      ]
     },
     "execution_count": 94,
     "metadata": {},
     "output_type": "execute_result"
    }
   ],
   "source": [
    "set(pred_lrc)"
   ]
  },
  {
   "cell_type": "code",
   "execution_count": 58,
   "metadata": {
    "collapsed": false
   },
   "outputs": [
    {
     "data": {
      "text/plain": [
       "MLPClassifier(activation='relu', alpha=1e-05, batch_size='auto', beta_1=0.9,\n",
       "       beta_2=0.999, early_stopping=False, epsilon=1e-08,\n",
       "       hidden_layer_sizes=9, learning_rate='constant',\n",
       "       learning_rate_init=0.001, max_iter=1500, momentum=0.9,\n",
       "       nesterovs_momentum=True, power_t=0.5, random_state=None,\n",
       "       shuffle=True, solver='lbfgs', tol=0.0001, validation_fraction=0.1,\n",
       "       verbose=False, warm_start=False)"
      ]
     },
     "execution_count": 58,
     "metadata": {},
     "output_type": "execute_result"
    }
   ],
   "source": [
    "nncl = MLPClassifier(hidden_layer_sizes=9, alpha=1.0000000000000001e-05, max_iter=1500, solver='lbfgs')\n",
    "nncl.fit(X, y)"
   ]
  },
  {
   "cell_type": "code",
   "execution_count": 95,
   "metadata": {
    "collapsed": false
   },
   "outputs": [
    {
     "data": {
      "text/plain": [
       "{1.0}"
      ]
     },
     "execution_count": 95,
     "metadata": {},
     "output_type": "execute_result"
    }
   ],
   "source": [
    "set(nncl.predict_proba(te)[:, 0]) #эээээм 1??"
   ]
  },
  {
   "cell_type": "code",
   "execution_count": 96,
   "metadata": {
    "collapsed": false
   },
   "outputs": [
    {
     "name": "stdout",
     "output_type": "stream",
     "text": [
      "AUC: 0.7553057119982064 (+/- 0.0030721528631138546)\n",
      "CPU times: user 2min 21s, sys: 2.99 s, total: 2min 24s\n",
      "Wall time: 2min 35s\n"
     ]
    }
   ],
   "source": [
    "%time testClf(GradientBoostingClassifier(), X, y)"
   ]
  },
  {
   "cell_type": "code",
   "execution_count": 97,
   "metadata": {
    "collapsed": false
   },
   "outputs": [
    {
     "data": {
      "text/plain": [
       "array([[ 0.9084779 ,  0.0915221 ],\n",
       "       [ 0.83439962,  0.16560038],\n",
       "       [ 0.72530596,  0.27469404],\n",
       "       ..., \n",
       "       [ 0.94495476,  0.05504524],\n",
       "       [ 0.81656896,  0.18343104],\n",
       "       [ 0.88373348,  0.11626652]])"
      ]
     },
     "execution_count": 97,
     "metadata": {},
     "output_type": "execute_result"
    }
   ],
   "source": [
    "clf = GradientBoostingClassifier()\n",
    "clf.fit(X, y)\n",
    "clf.predict_proba(te)"
   ]
  },
  {
   "cell_type": "code",
   "execution_count": 98,
   "metadata": {
    "collapsed": false
   },
   "outputs": [
    {
     "name": "stdout",
     "output_type": "stream",
     "text": [
      "AUC: 0.7436541213131352 (+/- 0.0033777978859896645)\n",
      "CPU times: user 40 s, sys: 617 ms, total: 40.6 s\n",
      "Wall time: 41.2 s\n"
     ]
    }
   ],
   "source": [
    "%time testClf(AdaBoostClassifier(), X, y)"
   ]
  },
  {
   "cell_type": "code",
   "execution_count": 16,
   "metadata": {
    "collapsed": false
   },
   "outputs": [
    {
     "name": "stdout",
     "output_type": "stream",
     "text": [
      "AUC: 0.757765626665458 (+/- 0.0027627909176038074)\n",
      "CPU times: user 20min 53s, sys: 21.7 s, total: 21min 15s\n",
      "Wall time: 21min 46s\n"
     ]
    }
   ],
   "source": [
    "clf1 = GradientBoostingClassifier(n_estimators=300)\n",
    "clf2 = AdaBoostClassifier(n_estimators=300)\n",
    "clf3 = RandomForestClassifier(n_estimators=300)\n",
    "eclf = VotingClassifier(estimators=[('gb', clf1), ('ada', clf2), ('rfc', clf3)], voting='soft')\n",
    "%time testClf(eclf, X, y) # короче надо подбирать гиперпараметры и xgboost"
   ]
  },
  {
   "cell_type": "code",
   "execution_count": 17,
   "metadata": {
    "collapsed": false
   },
   "outputs": [
    {
     "name": "stdout",
     "output_type": "stream",
     "text": [
      "CPU times: user 5min 59s, sys: 5.69 s, total: 6min 5s\n",
      "Wall time: 6min 19s\n"
     ]
    },
    {
     "data": {
      "text/plain": [
       "VotingClassifier(estimators=[('gb', GradientBoostingClassifier(criterion='friedman_mse', init=None,\n",
       "              learning_rate=0.1, loss='deviance', max_depth=3,\n",
       "              max_features=None, max_leaf_nodes=None,\n",
       "              min_impurity_split=1e-07, min_samples_leaf=1,\n",
       "              min_samples_split=2, min_w...mators=300, n_jobs=1, oob_score=False, random_state=None,\n",
       "            verbose=0, warm_start=False))],\n",
       "         n_jobs=1, voting='soft', weights=None)"
      ]
     },
     "execution_count": 17,
     "metadata": {},
     "output_type": "execute_result"
    }
   ],
   "source": [
    "%time eclf.fit(X, y)"
   ]
  },
  {
   "cell_type": "code",
   "execution_count": 18,
   "metadata": {
    "collapsed": true
   },
   "outputs": [],
   "source": [
    "pred = eclf.predict_proba(te)\n",
    "# 0.7549 in public"
   ]
  },
  {
   "cell_type": "code",
   "execution_count": 14,
   "metadata": {
    "collapsed": true
   },
   "outputs": [],
   "source": [
    "def save(fname, pred, test):\n",
    "    res1 = pd.DataFrame()\n",
    "    res1['_ID_'] = test.index\n",
    "    res1['_VAL_'] = pred\n",
    "    res1.to_csv(\"submissions/{0}.csv\".format(fname), index=False)\n",
    "    return res1"
   ]
  },
  {
   "cell_type": "code",
   "execution_count": 27,
   "metadata": {
    "collapsed": false
   },
   "outputs": [],
   "source": [
    "res = save(\"ensemble_gbc_ada_rfc\", pred[:,1], te)"
   ]
  },
  {
   "cell_type": "code",
   "execution_count": 13,
   "metadata": {
    "collapsed": false
   },
   "outputs": [
    {
     "name": "stdout",
     "output_type": "stream",
     "text": [
      "AUC: 0.7570767305789323 (+/- 0.005244599130536529)\n",
      "CPU times: user 12min 18s, sys: 15.1 s, total: 12min 33s\n",
      "Wall time: 5min 56s\n"
     ]
    }
   ],
   "source": [
    "gbm = xgb.XGBClassifier(max_depth=10, n_estimators=300, learning_rate=0.05, nthread=4)\n",
    "%time testClf(gbm, X, y)"
   ]
  },
  {
   "cell_type": "code",
   "execution_count": 16,
   "metadata": {
    "collapsed": false
   },
   "outputs": [],
   "source": [
    "clf1 = GradientBoostingClassifier(n_estimators=300)\n",
    "clf2 = AdaBoostClassifier(n_estimators=300)\n",
    "clf3 = RandomForestClassifier(n_estimators=300, max_depth=20)\n",
    "clf4 = xgb.XGBClassifier(max_depth=10, n_estimators=300, learning_rate=0.05, nthread=4)\n",
    "eclf = VotingClassifier(estimators=[('gb', clf1), ('ada', clf2), ('rfc', clf3), ('xgb', clf4)], voting='soft')"
   ]
  },
  {
   "cell_type": "code",
   "execution_count": 19,
   "metadata": {
    "collapsed": false
   },
   "outputs": [
    {
     "name": "stdout",
     "output_type": "stream",
     "text": [
      "AUC: 0.7625974115839058 (+/- 0.0037793467900848815)\n",
      "CPU times: user 30min 1s, sys: 28.4 s, total: 30min 29s\n",
      "Wall time: 23min 1s\n"
     ]
    }
   ],
   "source": [
    "%time testClf(eclf, X, y)"
   ]
  },
  {
   "cell_type": "code",
   "execution_count": 17,
   "metadata": {
    "collapsed": false
   },
   "outputs": [
    {
     "name": "stdout",
     "output_type": "stream",
     "text": [
      "CPU times: user 8min 15s, sys: 7.52 s, total: 8min 22s\n",
      "Wall time: 6min 33s\n"
     ]
    },
    {
     "data": {
      "text/plain": [
       "VotingClassifier(estimators=[('gb', GradientBoostingClassifier(criterion='friedman_mse', init=None,\n",
       "              learning_rate=0.1, loss='deviance', max_depth=3,\n",
       "              max_features=None, max_leaf_nodes=None,\n",
       "              min_impurity_split=1e-07, min_samples_leaf=1,\n",
       "              min_samples_split=2, min_w...logistic', reg_alpha=0, reg_lambda=1,\n",
       "       scale_pos_weight=1, seed=0, silent=True, subsample=1))],\n",
       "         n_jobs=1, voting='soft', weights=None)"
      ]
     },
     "execution_count": 17,
     "metadata": {},
     "output_type": "execute_result"
    }
   ],
   "source": [
    "%time eclf.fit(X, y)"
   ]
  },
  {
   "cell_type": "code",
   "execution_count": 18,
   "metadata": {
    "collapsed": true
   },
   "outputs": [],
   "source": [
    "pred = eclf.predict_proba(te) # 0.7603\n",
    "res = save(\"ensemble_gbc_ada_rfc_XGB\", pred[:,1], te)"
   ]
  }
 ],
 "metadata": {
  "kernelspec": {
   "display_name": "Python 3",
   "language": "python",
   "name": "python3"
  },
  "language_info": {
   "codemirror_mode": {
    "name": "ipython",
    "version": 3
   },
   "file_extension": ".py",
   "mimetype": "text/x-python",
   "name": "python",
   "nbconvert_exporter": "python",
   "pygments_lexer": "ipython3",
   "version": "3.5.2"
  }
 },
 "nbformat": 4,
 "nbformat_minor": 0
}
