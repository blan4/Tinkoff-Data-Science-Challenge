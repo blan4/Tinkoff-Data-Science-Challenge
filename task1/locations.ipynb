{
 "cells": [
  {
   "cell_type": "code",
   "execution_count": 1,
   "metadata": {
    "collapsed": true
   },
   "outputs": [],
   "source": [
    "%matplotlib inline\n",
    "import pandas as pd\n",
    "import numpy as np\n",
    "import seaborn as sns\n",
    "import matplotlib.pyplot as plt\n",
    "plt.rcParams['figure.figsize'] = (15, 10)"
   ]
  },
  {
   "cell_type": "code",
   "execution_count": 2,
   "metadata": {
    "collapsed": false
   },
   "outputs": [
    {
     "data": {
      "text/html": [
       "<div>\n",
       "<table border=\"1\" class=\"dataframe\">\n",
       "  <thead>\n",
       "    <tr style=\"text-align: right;\">\n",
       "      <th></th>\n",
       "      <th>gender</th>\n",
       "      <th>age</th>\n",
       "      <th>marital_status</th>\n",
       "      <th>job_position</th>\n",
       "      <th>credit_sum</th>\n",
       "      <th>credit_month</th>\n",
       "      <th>tariff_id</th>\n",
       "      <th>score_shk</th>\n",
       "      <th>education</th>\n",
       "      <th>living_region</th>\n",
       "      <th>monthly_income</th>\n",
       "      <th>credit_count</th>\n",
       "      <th>overdue_credit_count</th>\n",
       "      <th>open_account_flg</th>\n",
       "    </tr>\n",
       "    <tr>\n",
       "      <th>client_id</th>\n",
       "      <th></th>\n",
       "      <th></th>\n",
       "      <th></th>\n",
       "      <th></th>\n",
       "      <th></th>\n",
       "      <th></th>\n",
       "      <th></th>\n",
       "      <th></th>\n",
       "      <th></th>\n",
       "      <th></th>\n",
       "      <th></th>\n",
       "      <th></th>\n",
       "      <th></th>\n",
       "      <th></th>\n",
       "    </tr>\n",
       "  </thead>\n",
       "  <tbody>\n",
       "    <tr>\n",
       "      <th>1</th>\n",
       "      <td>M</td>\n",
       "      <td>48</td>\n",
       "      <td>MAR</td>\n",
       "      <td>UMN</td>\n",
       "      <td>59998,00</td>\n",
       "      <td>10</td>\n",
       "      <td>1.6</td>\n",
       "      <td>0,770249</td>\n",
       "      <td>GRD</td>\n",
       "      <td>КРАСНОДАРСКИЙ КРАЙ</td>\n",
       "      <td>30000.0</td>\n",
       "      <td>1.0</td>\n",
       "      <td>1.0</td>\n",
       "      <td>0</td>\n",
       "    </tr>\n",
       "    <tr>\n",
       "      <th>2</th>\n",
       "      <td>F</td>\n",
       "      <td>28</td>\n",
       "      <td>MAR</td>\n",
       "      <td>UMN</td>\n",
       "      <td>10889,00</td>\n",
       "      <td>6</td>\n",
       "      <td>1.1</td>\n",
       "      <td>0,248514</td>\n",
       "      <td>GRD</td>\n",
       "      <td>МОСКВА</td>\n",
       "      <td>43000.0</td>\n",
       "      <td>2.0</td>\n",
       "      <td>0.0</td>\n",
       "      <td>0</td>\n",
       "    </tr>\n",
       "    <tr>\n",
       "      <th>3</th>\n",
       "      <td>M</td>\n",
       "      <td>32</td>\n",
       "      <td>MAR</td>\n",
       "      <td>SPC</td>\n",
       "      <td>10728,00</td>\n",
       "      <td>12</td>\n",
       "      <td>1.1</td>\n",
       "      <td>0,459589</td>\n",
       "      <td>SCH</td>\n",
       "      <td>ОБЛ САРАТОВСКАЯ</td>\n",
       "      <td>23000.0</td>\n",
       "      <td>5.0</td>\n",
       "      <td>0.0</td>\n",
       "      <td>0</td>\n",
       "    </tr>\n",
       "    <tr>\n",
       "      <th>4</th>\n",
       "      <td>F</td>\n",
       "      <td>27</td>\n",
       "      <td>DIV</td>\n",
       "      <td>SPC</td>\n",
       "      <td>12009,09</td>\n",
       "      <td>12</td>\n",
       "      <td>1.1</td>\n",
       "      <td>0,362536</td>\n",
       "      <td>GRD</td>\n",
       "      <td>ОБЛ ВОЛГОГРАДСКАЯ</td>\n",
       "      <td>17000.0</td>\n",
       "      <td>2.0</td>\n",
       "      <td>0.0</td>\n",
       "      <td>0</td>\n",
       "    </tr>\n",
       "    <tr>\n",
       "      <th>5</th>\n",
       "      <td>M</td>\n",
       "      <td>45</td>\n",
       "      <td>MAR</td>\n",
       "      <td>SPC</td>\n",
       "      <td>16908,89</td>\n",
       "      <td>10</td>\n",
       "      <td>1.1</td>\n",
       "      <td>0,421385</td>\n",
       "      <td>SCH</td>\n",
       "      <td>ЧЕЛЯБИНСКАЯ ОБЛАСТЬ</td>\n",
       "      <td>25000.0</td>\n",
       "      <td>1.0</td>\n",
       "      <td>0.0</td>\n",
       "      <td>0</td>\n",
       "    </tr>\n",
       "  </tbody>\n",
       "</table>\n",
       "</div>"
      ],
      "text/plain": [
       "          gender  age marital_status job_position credit_sum  credit_month  \\\n",
       "client_id                                                                    \n",
       "1              M   48            MAR          UMN   59998,00            10   \n",
       "2              F   28            MAR          UMN   10889,00             6   \n",
       "3              M   32            MAR          SPC   10728,00            12   \n",
       "4              F   27            DIV          SPC   12009,09            12   \n",
       "5              M   45            MAR          SPC   16908,89            10   \n",
       "\n",
       "           tariff_id score_shk education        living_region  monthly_income  \\\n",
       "client_id                                                                       \n",
       "1                1.6  0,770249       GRD   КРАСНОДАРСКИЙ КРАЙ         30000.0   \n",
       "2                1.1  0,248514       GRD               МОСКВА         43000.0   \n",
       "3                1.1  0,459589       SCH      ОБЛ САРАТОВСКАЯ         23000.0   \n",
       "4                1.1  0,362536       GRD    ОБЛ ВОЛГОГРАДСКАЯ         17000.0   \n",
       "5                1.1  0,421385       SCH  ЧЕЛЯБИНСКАЯ ОБЛАСТЬ         25000.0   \n",
       "\n",
       "           credit_count  overdue_credit_count  open_account_flg  \n",
       "client_id                                                        \n",
       "1                   1.0                   1.0                 0  \n",
       "2                   2.0                   0.0                 0  \n",
       "3                   5.0                   0.0                 0  \n",
       "4                   2.0                   0.0                 0  \n",
       "5                   1.0                   0.0                 0  "
      ]
     },
     "execution_count": 2,
     "metadata": {},
     "output_type": "execute_result"
    }
   ],
   "source": [
    "train = pd.read_csv('data/credit_train.csv.zip', encoding='cp1251', delimiter=';', index_col='client_id')\n",
    "train.head()"
   ]
  },
  {
   "cell_type": "code",
   "execution_count": 3,
   "metadata": {
    "collapsed": false
   },
   "outputs": [
    {
     "data": {
      "text/html": [
       "<div>\n",
       "<table border=\"1\" class=\"dataframe\">\n",
       "  <thead>\n",
       "    <tr style=\"text-align: right;\">\n",
       "      <th></th>\n",
       "      <th>gender</th>\n",
       "      <th>age</th>\n",
       "      <th>marital_status</th>\n",
       "      <th>job_position</th>\n",
       "      <th>credit_sum</th>\n",
       "      <th>credit_month</th>\n",
       "      <th>tariff_id</th>\n",
       "      <th>score_shk</th>\n",
       "      <th>education</th>\n",
       "      <th>living_region</th>\n",
       "      <th>monthly_income</th>\n",
       "      <th>credit_count</th>\n",
       "      <th>overdue_credit_count</th>\n",
       "    </tr>\n",
       "    <tr>\n",
       "      <th>client_id</th>\n",
       "      <th></th>\n",
       "      <th></th>\n",
       "      <th></th>\n",
       "      <th></th>\n",
       "      <th></th>\n",
       "      <th></th>\n",
       "      <th></th>\n",
       "      <th></th>\n",
       "      <th></th>\n",
       "      <th></th>\n",
       "      <th></th>\n",
       "      <th></th>\n",
       "      <th></th>\n",
       "    </tr>\n",
       "  </thead>\n",
       "  <tbody>\n",
       "    <tr>\n",
       "      <th>170747</th>\n",
       "      <td>F</td>\n",
       "      <td>48</td>\n",
       "      <td>MAR</td>\n",
       "      <td>UMN</td>\n",
       "      <td>16558,00</td>\n",
       "      <td>10</td>\n",
       "      <td>1.10</td>\n",
       "      <td>0,370409</td>\n",
       "      <td>GRD</td>\n",
       "      <td>ХАКАСИЯ РЕСП</td>\n",
       "      <td>34000</td>\n",
       "      <td>2.0</td>\n",
       "      <td>0.0</td>\n",
       "    </tr>\n",
       "    <tr>\n",
       "      <th>170748</th>\n",
       "      <td>M</td>\n",
       "      <td>29</td>\n",
       "      <td>MAR</td>\n",
       "      <td>SPC</td>\n",
       "      <td>7028,72</td>\n",
       "      <td>6</td>\n",
       "      <td>1.40</td>\n",
       "      <td>0,377281</td>\n",
       "      <td>SCH</td>\n",
       "      <td>ОБЛ КЕМЕРОВСКАЯ</td>\n",
       "      <td>19000</td>\n",
       "      <td>3.0</td>\n",
       "      <td>0.0</td>\n",
       "    </tr>\n",
       "    <tr>\n",
       "      <th>170749</th>\n",
       "      <td>F</td>\n",
       "      <td>20</td>\n",
       "      <td>UNM</td>\n",
       "      <td>SPC</td>\n",
       "      <td>13019,00</td>\n",
       "      <td>10</td>\n",
       "      <td>1.60</td>\n",
       "      <td>0,538515</td>\n",
       "      <td>SCH</td>\n",
       "      <td>ОБЛ БЕЛГОРОДСКАЯ</td>\n",
       "      <td>25000</td>\n",
       "      <td>1.0</td>\n",
       "      <td>0.0</td>\n",
       "    </tr>\n",
       "    <tr>\n",
       "      <th>170750</th>\n",
       "      <td>F</td>\n",
       "      <td>41</td>\n",
       "      <td>MAR</td>\n",
       "      <td>SPC</td>\n",
       "      <td>9379,00</td>\n",
       "      <td>10</td>\n",
       "      <td>1.10</td>\n",
       "      <td>0,482520</td>\n",
       "      <td>GRD</td>\n",
       "      <td>ОБЛ ИРКУТСКАЯ</td>\n",
       "      <td>30000</td>\n",
       "      <td>0.0</td>\n",
       "      <td>0.0</td>\n",
       "    </tr>\n",
       "    <tr>\n",
       "      <th>170751</th>\n",
       "      <td>F</td>\n",
       "      <td>31</td>\n",
       "      <td>MAR</td>\n",
       "      <td>SPC</td>\n",
       "      <td>13990,00</td>\n",
       "      <td>6</td>\n",
       "      <td>1.43</td>\n",
       "      <td>0,485914</td>\n",
       "      <td>GRD</td>\n",
       "      <td>ОБЛ КИРОВСКАЯ</td>\n",
       "      <td>20000</td>\n",
       "      <td>2.0</td>\n",
       "      <td>0.0</td>\n",
       "    </tr>\n",
       "  </tbody>\n",
       "</table>\n",
       "</div>"
      ],
      "text/plain": [
       "          gender  age marital_status job_position credit_sum  credit_month  \\\n",
       "client_id                                                                    \n",
       "170747         F   48            MAR          UMN   16558,00            10   \n",
       "170748         M   29            MAR          SPC    7028,72             6   \n",
       "170749         F   20            UNM          SPC   13019,00            10   \n",
       "170750         F   41            MAR          SPC    9379,00            10   \n",
       "170751         F   31            MAR          SPC   13990,00             6   \n",
       "\n",
       "           tariff_id score_shk education     living_region  monthly_income  \\\n",
       "client_id                                                                    \n",
       "170747          1.10  0,370409       GRD      ХАКАСИЯ РЕСП           34000   \n",
       "170748          1.40  0,377281       SCH   ОБЛ КЕМЕРОВСКАЯ           19000   \n",
       "170749          1.60  0,538515       SCH  ОБЛ БЕЛГОРОДСКАЯ           25000   \n",
       "170750          1.10  0,482520       GRD     ОБЛ ИРКУТСКАЯ           30000   \n",
       "170751          1.43  0,485914       GRD     ОБЛ КИРОВСКАЯ           20000   \n",
       "\n",
       "           credit_count  overdue_credit_count  \n",
       "client_id                                      \n",
       "170747              2.0                   0.0  \n",
       "170748              3.0                   0.0  \n",
       "170749              1.0                   0.0  \n",
       "170750              0.0                   0.0  \n",
       "170751              2.0                   0.0  "
      ]
     },
     "execution_count": 3,
     "metadata": {},
     "output_type": "execute_result"
    }
   ],
   "source": [
    "test = pd.read_csv('data/credit_test.csv.zip', encoding='cp1251', delimiter=';', index_col='client_id')\n",
    "test.head()"
   ]
  },
  {
   "cell_type": "code",
   "execution_count": 72,
   "metadata": {
    "collapsed": false
   },
   "outputs": [
    {
     "data": {
      "text/html": [
       "<div>\n",
       "<table border=\"1\" class=\"dataframe\">\n",
       "  <thead>\n",
       "    <tr style=\"text-align: right;\">\n",
       "      <th></th>\n",
       "      <th>age</th>\n",
       "      <th>credit_count</th>\n",
       "      <th>credit_month</th>\n",
       "      <th>monthly_income</th>\n",
       "      <th>open_account_flg</th>\n",
       "      <th>overdue_credit_count</th>\n",
       "      <th>tariff_id</th>\n",
       "    </tr>\n",
       "  </thead>\n",
       "  <tbody>\n",
       "    <tr>\n",
       "      <th>count</th>\n",
       "      <td>262686.000000</td>\n",
       "      <td>248753.000000</td>\n",
       "      <td>262686.000000</td>\n",
       "      <td>262685.000000</td>\n",
       "      <td>170746.000000</td>\n",
       "      <td>248753.000000</td>\n",
       "      <td>262686.000000</td>\n",
       "    </tr>\n",
       "    <tr>\n",
       "      <th>mean</th>\n",
       "      <td>36.484628</td>\n",
       "      <td>2.107552</td>\n",
       "      <td>10.980954</td>\n",
       "      <td>40118.979904</td>\n",
       "      <td>0.176028</td>\n",
       "      <td>0.045997</td>\n",
       "      <td>1.323828</td>\n",
       "    </tr>\n",
       "    <tr>\n",
       "      <th>std</th>\n",
       "      <td>10.534205</td>\n",
       "      <td>1.774774</td>\n",
       "      <td>3.541896</td>\n",
       "      <td>24907.802693</td>\n",
       "      <td>0.380845</td>\n",
       "      <td>0.211371</td>\n",
       "      <td>0.235725</td>\n",
       "    </tr>\n",
       "    <tr>\n",
       "      <th>min</th>\n",
       "      <td>18.000000</td>\n",
       "      <td>0.000000</td>\n",
       "      <td>3.000000</td>\n",
       "      <td>0.000000</td>\n",
       "      <td>0.000000</td>\n",
       "      <td>0.000000</td>\n",
       "      <td>1.000000</td>\n",
       "    </tr>\n",
       "    <tr>\n",
       "      <th>25%</th>\n",
       "      <td>28.000000</td>\n",
       "      <td>1.000000</td>\n",
       "      <td>10.000000</td>\n",
       "      <td>25000.000000</td>\n",
       "      <td>0.000000</td>\n",
       "      <td>0.000000</td>\n",
       "      <td>1.100000</td>\n",
       "    </tr>\n",
       "    <tr>\n",
       "      <th>50%</th>\n",
       "      <td>34.000000</td>\n",
       "      <td>2.000000</td>\n",
       "      <td>10.000000</td>\n",
       "      <td>35000.000000</td>\n",
       "      <td>0.000000</td>\n",
       "      <td>0.000000</td>\n",
       "      <td>1.320000</td>\n",
       "    </tr>\n",
       "    <tr>\n",
       "      <th>75%</th>\n",
       "      <td>43.000000</td>\n",
       "      <td>3.000000</td>\n",
       "      <td>12.000000</td>\n",
       "      <td>50000.000000</td>\n",
       "      <td>0.000000</td>\n",
       "      <td>0.000000</td>\n",
       "      <td>1.600000</td>\n",
       "    </tr>\n",
       "    <tr>\n",
       "      <th>max</th>\n",
       "      <td>71.000000</td>\n",
       "      <td>22.000000</td>\n",
       "      <td>36.000000</td>\n",
       "      <td>950000.000000</td>\n",
       "      <td>1.000000</td>\n",
       "      <td>3.000000</td>\n",
       "      <td>1.960000</td>\n",
       "    </tr>\n",
       "  </tbody>\n",
       "</table>\n",
       "</div>"
      ],
      "text/plain": [
       "                 age   credit_count   credit_month  monthly_income  \\\n",
       "count  262686.000000  248753.000000  262686.000000   262685.000000   \n",
       "mean       36.484628       2.107552      10.980954    40118.979904   \n",
       "std        10.534205       1.774774       3.541896    24907.802693   \n",
       "min        18.000000       0.000000       3.000000        0.000000   \n",
       "25%        28.000000       1.000000      10.000000    25000.000000   \n",
       "50%        34.000000       2.000000      10.000000    35000.000000   \n",
       "75%        43.000000       3.000000      12.000000    50000.000000   \n",
       "max        71.000000      22.000000      36.000000   950000.000000   \n",
       "\n",
       "       open_account_flg  overdue_credit_count      tariff_id  \n",
       "count     170746.000000         248753.000000  262686.000000  \n",
       "mean           0.176028              0.045997       1.323828  \n",
       "std            0.380845              0.211371       0.235725  \n",
       "min            0.000000              0.000000       1.000000  \n",
       "25%            0.000000              0.000000       1.100000  \n",
       "50%            0.000000              0.000000       1.320000  \n",
       "75%            0.000000              0.000000       1.600000  \n",
       "max            1.000000              3.000000       1.960000  "
      ]
     },
     "execution_count": 72,
     "metadata": {},
     "output_type": "execute_result"
    }
   ],
   "source": [
    "all_data = pd.concat([train, test])\n",
    "all_data.describe()"
   ]
  },
  {
   "cell_type": "code",
   "execution_count": 5,
   "metadata": {
    "collapsed": true
   },
   "outputs": [],
   "source": [
    "def fix_numbers(data):\n",
    "    # Как оказалось в данных проблемы с форматом чисел. Вместо точки использовалась запятая, поэтому получили мы строки а не float.\n",
    "    data['credit_sum'] = pd.to_numeric(data['credit_sum'].str.replace(',', '.'))\n",
    "    data['score_shk'] = pd.to_numeric(data['score_shk'].str.replace(',', '.'))\n",
    "    # ИД тарифа оказалось число типа float, переделаем в строку\n",
    "    data['tariff_id'] = data['tariff_id'].astype(str).str.replace('.', ',')"
   ]
  },
  {
   "cell_type": "code",
   "execution_count": 73,
   "metadata": {
    "collapsed": false
   },
   "outputs": [
    {
     "data": {
      "text/plain": [
       "age                     262686\n",
       "credit_count            248753\n",
       "credit_month            262686\n",
       "credit_sum              262686\n",
       "education               262686\n",
       "gender                  262686\n",
       "job_position            262686\n",
       "living_region           262378\n",
       "marital_status          262686\n",
       "monthly_income          262686\n",
       "open_account_flg        170746\n",
       "overdue_credit_count    248753\n",
       "score_shk               262686\n",
       "tariff_id               262686\n",
       "dtype: int64"
      ]
     },
     "execution_count": 73,
     "metadata": {},
     "output_type": "execute_result"
    }
   ],
   "source": [
    "all_data['monthly_income'] = all_data['monthly_income'].fillna(35000) # медиана 50%\n",
    "fix_numbers(all_data)\n",
    "all_data.count()"
   ]
  },
  {
   "cell_type": "code",
   "execution_count": 74,
   "metadata": {
    "collapsed": false
   },
   "outputs": [
    {
     "name": "stdout",
     "output_type": "stream",
     "text": [
      "[('living_region', 116), ('credit_count', 4703), ('overdue_credit_count', 4703)]\n",
      "[('living_region', 192), ('monthly_income', 1), ('credit_count', 9230), ('overdue_credit_count', 9230)]\n",
      "[('credit_count', 13933), ('living_region', 308), ('open_account_flg', 91940), ('overdue_credit_count', 13933)]\n"
     ]
    }
   ],
   "source": [
    "# данные, которые заполнены не полностью. Заменить 0 все численные. Москвой жилой район.\n",
    "def null_data_count(data):\n",
    "    return [(i,data['age'].count() - v) for i, v in data.count().iteritems() if v < data['age'].count()]\n",
    "print(null_data_count(test))\n",
    "print(null_data_count(train))\n",
    "print(null_data_count(all_data))"
   ]
  },
  {
   "cell_type": "code",
   "execution_count": 11,
   "metadata": {
    "collapsed": false
   },
   "outputs": [
    {
     "name": "stdout",
     "output_type": "stream",
     "text": [
      "[('living_region', 308)]\n"
     ]
    }
   ],
   "source": [
    "data_dirty = all_data[['gender','age','marital_status','job_position','credit_sum','credit_month','tariff_id','score_shk','education','living_region','monthly_income']]\n",
    "print(null_data_count(data_dirty))"
   ]
  },
  {
   "cell_type": "code",
   "execution_count": 14,
   "metadata": {
    "collapsed": false
   },
   "outputs": [
    {
     "name": "stdout",
     "output_type": "stream",
     "text": [
      "317\n",
      "83\n",
      "102\n",
      "102\n"
     ]
    }
   ],
   "source": [
    "regions = pd.read_csv('data/locations.csv', index_col='living_region')\n",
    "print(len(regions.index.unique()))\n",
    "print(len(regions['living_region_clean'].unique()))\n",
    "print(len(regions['lon'].unique()))\n",
    "print(len(regions['lat'].unique()))"
   ]
  },
  {
   "cell_type": "code",
   "execution_count": 17,
   "metadata": {
    "collapsed": false
   },
   "outputs": [
    {
     "name": "stdout",
     "output_type": "stream",
     "text": [
      "(262686, 13)\n",
      "[('living_region_clean', 308), ('lon', 308), ('lat', 308)]\n"
     ]
    },
    {
     "data": {
      "text/html": [
       "<div>\n",
       "<table border=\"1\" class=\"dataframe\">\n",
       "  <thead>\n",
       "    <tr style=\"text-align: right;\">\n",
       "      <th></th>\n",
       "      <th>gender</th>\n",
       "      <th>age</th>\n",
       "      <th>marital_status</th>\n",
       "      <th>job_position</th>\n",
       "      <th>credit_sum</th>\n",
       "      <th>credit_month</th>\n",
       "      <th>tariff_id</th>\n",
       "      <th>score_shk</th>\n",
       "      <th>education</th>\n",
       "      <th>monthly_income</th>\n",
       "      <th>living_region_clean</th>\n",
       "      <th>lon</th>\n",
       "      <th>lat</th>\n",
       "    </tr>\n",
       "    <tr>\n",
       "      <th>client_id</th>\n",
       "      <th></th>\n",
       "      <th></th>\n",
       "      <th></th>\n",
       "      <th></th>\n",
       "      <th></th>\n",
       "      <th></th>\n",
       "      <th></th>\n",
       "      <th></th>\n",
       "      <th></th>\n",
       "      <th></th>\n",
       "      <th></th>\n",
       "      <th></th>\n",
       "      <th></th>\n",
       "    </tr>\n",
       "  </thead>\n",
       "  <tbody>\n",
       "    <tr>\n",
       "      <th>1</th>\n",
       "      <td>M</td>\n",
       "      <td>48</td>\n",
       "      <td>MAR</td>\n",
       "      <td>UMN</td>\n",
       "      <td>59998.00</td>\n",
       "      <td>10</td>\n",
       "      <td>1,6</td>\n",
       "      <td>0.770249</td>\n",
       "      <td>GRD</td>\n",
       "      <td>30000.0</td>\n",
       "      <td>КРАСНОДАРСКИЙ</td>\n",
       "      <td>38.951409</td>\n",
       "      <td>45.272365</td>\n",
       "    </tr>\n",
       "    <tr>\n",
       "      <th>2</th>\n",
       "      <td>F</td>\n",
       "      <td>28</td>\n",
       "      <td>MAR</td>\n",
       "      <td>UMN</td>\n",
       "      <td>10889.00</td>\n",
       "      <td>6</td>\n",
       "      <td>1,1</td>\n",
       "      <td>0.248514</td>\n",
       "      <td>GRD</td>\n",
       "      <td>43000.0</td>\n",
       "      <td>МОСКОВСКАЯ</td>\n",
       "      <td>37.617635</td>\n",
       "      <td>55.755814</td>\n",
       "    </tr>\n",
       "    <tr>\n",
       "      <th>3</th>\n",
       "      <td>M</td>\n",
       "      <td>32</td>\n",
       "      <td>MAR</td>\n",
       "      <td>SPC</td>\n",
       "      <td>10728.00</td>\n",
       "      <td>12</td>\n",
       "      <td>1,1</td>\n",
       "      <td>0.459589</td>\n",
       "      <td>SCH</td>\n",
       "      <td>23000.0</td>\n",
       "      <td>САРАТОВСКАЯ</td>\n",
       "      <td>46.797223</td>\n",
       "      <td>51.578529</td>\n",
       "    </tr>\n",
       "    <tr>\n",
       "      <th>4</th>\n",
       "      <td>F</td>\n",
       "      <td>27</td>\n",
       "      <td>DIV</td>\n",
       "      <td>SPC</td>\n",
       "      <td>12009.09</td>\n",
       "      <td>12</td>\n",
       "      <td>1,1</td>\n",
       "      <td>0.362536</td>\n",
       "      <td>GRD</td>\n",
       "      <td>17000.0</td>\n",
       "      <td>ВОЛГОГРАДСКАЯ</td>\n",
       "      <td>44.151406</td>\n",
       "      <td>49.615821</td>\n",
       "    </tr>\n",
       "    <tr>\n",
       "      <th>5</th>\n",
       "      <td>M</td>\n",
       "      <td>45</td>\n",
       "      <td>MAR</td>\n",
       "      <td>SPC</td>\n",
       "      <td>16908.89</td>\n",
       "      <td>10</td>\n",
       "      <td>1,1</td>\n",
       "      <td>0.421385</td>\n",
       "      <td>SCH</td>\n",
       "      <td>25000.0</td>\n",
       "      <td>ЧЕЛЯБИНСКАЯ</td>\n",
       "      <td>60.395641</td>\n",
       "      <td>54.446199</td>\n",
       "    </tr>\n",
       "  </tbody>\n",
       "</table>\n",
       "</div>"
      ],
      "text/plain": [
       "          gender  age marital_status job_position  credit_sum  credit_month  \\\n",
       "client_id                                                                     \n",
       "1              M   48            MAR          UMN    59998.00            10   \n",
       "2              F   28            MAR          UMN    10889.00             6   \n",
       "3              M   32            MAR          SPC    10728.00            12   \n",
       "4              F   27            DIV          SPC    12009.09            12   \n",
       "5              M   45            MAR          SPC    16908.89            10   \n",
       "\n",
       "          tariff_id  score_shk education  monthly_income living_region_clean  \\\n",
       "client_id                                                                      \n",
       "1               1,6   0.770249       GRD         30000.0       КРАСНОДАРСКИЙ   \n",
       "2               1,1   0.248514       GRD         43000.0          МОСКОВСКАЯ   \n",
       "3               1,1   0.459589       SCH         23000.0         САРАТОВСКАЯ   \n",
       "4               1,1   0.362536       GRD         17000.0       ВОЛГОГРАДСКАЯ   \n",
       "5               1,1   0.421385       SCH         25000.0         ЧЕЛЯБИНСКАЯ   \n",
       "\n",
       "                 lon        lat  \n",
       "client_id                        \n",
       "1          38.951409  45.272365  \n",
       "2          37.617635  55.755814  \n",
       "3          46.797223  51.578529  \n",
       "4          44.151406  49.615821  \n",
       "5          60.395641  54.446199  "
      ]
     },
     "execution_count": 17,
     "metadata": {},
     "output_type": "execute_result"
    }
   ],
   "source": [
    "data = pd.merge(data_dirty, regions, how='left', left_on='living_region', right_index=True).drop(['living_region'], axis=1)\n",
    "print(data.shape)\n",
    "print(null_data_count(data))\n",
    "data.head()"
   ]
  },
  {
   "cell_type": "code",
   "execution_count": 18,
   "metadata": {
    "collapsed": false
   },
   "outputs": [
    {
     "data": {
      "text/html": [
       "<div>\n",
       "<table border=\"1\" class=\"dataframe\">\n",
       "  <thead>\n",
       "    <tr style=\"text-align: right;\">\n",
       "      <th></th>\n",
       "      <th>age</th>\n",
       "      <th>credit_sum</th>\n",
       "      <th>credit_month</th>\n",
       "      <th>score_shk</th>\n",
       "      <th>monthly_income</th>\n",
       "      <th>lon</th>\n",
       "      <th>lat</th>\n",
       "    </tr>\n",
       "  </thead>\n",
       "  <tbody>\n",
       "    <tr>\n",
       "      <th>count</th>\n",
       "      <td>262686.000000</td>\n",
       "      <td>262686.000000</td>\n",
       "      <td>262686.000000</td>\n",
       "      <td>262686.000000</td>\n",
       "      <td>262686.000000</td>\n",
       "      <td>262378.000000</td>\n",
       "      <td>262378.000000</td>\n",
       "    </tr>\n",
       "    <tr>\n",
       "      <th>mean</th>\n",
       "      <td>36.484628</td>\n",
       "      <td>26085.632789</td>\n",
       "      <td>10.980954</td>\n",
       "      <td>0.469402</td>\n",
       "      <td>40118.960417</td>\n",
       "      <td>54.839537</td>\n",
       "      <td>55.350682</td>\n",
       "    </tr>\n",
       "    <tr>\n",
       "      <th>std</th>\n",
       "      <td>10.534205</td>\n",
       "      <td>16232.403518</td>\n",
       "      <td>3.541896</td>\n",
       "      <td>0.124390</td>\n",
       "      <td>24907.757286</td>\n",
       "      <td>25.424647</td>\n",
       "      <td>5.309170</td>\n",
       "    </tr>\n",
       "    <tr>\n",
       "      <th>min</th>\n",
       "      <td>18.000000</td>\n",
       "      <td>2736.000000</td>\n",
       "      <td>3.000000</td>\n",
       "      <td>0.000000</td>\n",
       "      <td>0.000000</td>\n",
       "      <td>21.229930</td>\n",
       "      <td>42.869937</td>\n",
       "    </tr>\n",
       "    <tr>\n",
       "      <th>25%</th>\n",
       "      <td>28.000000</td>\n",
       "      <td>14889.000000</td>\n",
       "      <td>10.000000</td>\n",
       "      <td>0.379387</td>\n",
       "      <td>25000.000000</td>\n",
       "      <td>37.617635</td>\n",
       "      <td>53.276350</td>\n",
       "    </tr>\n",
       "    <tr>\n",
       "      <th>50%</th>\n",
       "      <td>34.000000</td>\n",
       "      <td>21201.530000</td>\n",
       "      <td>10.000000</td>\n",
       "      <td>0.461439</td>\n",
       "      <td>35000.000000</td>\n",
       "      <td>44.634151</td>\n",
       "      <td>55.755814</td>\n",
       "    </tr>\n",
       "    <tr>\n",
       "      <th>75%</th>\n",
       "      <td>43.000000</td>\n",
       "      <td>32029.000000</td>\n",
       "      <td>12.000000</td>\n",
       "      <td>0.552274</td>\n",
       "      <td>50000.000000</td>\n",
       "      <td>61.530761</td>\n",
       "      <td>58.586755</td>\n",
       "    </tr>\n",
       "    <tr>\n",
       "      <th>max</th>\n",
       "      <td>71.000000</td>\n",
       "      <td>200000.000000</td>\n",
       "      <td>36.000000</td>\n",
       "      <td>1.255892</td>\n",
       "      <td>950000.000000</td>\n",
       "      <td>174.432311</td>\n",
       "      <td>67.714212</td>\n",
       "    </tr>\n",
       "  </tbody>\n",
       "</table>\n",
       "</div>"
      ],
      "text/plain": [
       "                 age     credit_sum   credit_month      score_shk  \\\n",
       "count  262686.000000  262686.000000  262686.000000  262686.000000   \n",
       "mean       36.484628   26085.632789      10.980954       0.469402   \n",
       "std        10.534205   16232.403518       3.541896       0.124390   \n",
       "min        18.000000    2736.000000       3.000000       0.000000   \n",
       "25%        28.000000   14889.000000      10.000000       0.379387   \n",
       "50%        34.000000   21201.530000      10.000000       0.461439   \n",
       "75%        43.000000   32029.000000      12.000000       0.552274   \n",
       "max        71.000000  200000.000000      36.000000       1.255892   \n",
       "\n",
       "       monthly_income            lon            lat  \n",
       "count   262686.000000  262378.000000  262378.000000  \n",
       "mean     40118.960417      54.839537      55.350682  \n",
       "std      24907.757286      25.424647       5.309170  \n",
       "min          0.000000      21.229930      42.869937  \n",
       "25%      25000.000000      37.617635      53.276350  \n",
       "50%      35000.000000      44.634151      55.755814  \n",
       "75%      50000.000000      61.530761      58.586755  \n",
       "max     950000.000000     174.432311      67.714212  "
      ]
     },
     "execution_count": 18,
     "metadata": {},
     "output_type": "execute_result"
    }
   ],
   "source": [
    "data.describe()"
   ]
  },
  {
   "cell_type": "code",
   "execution_count": 30,
   "metadata": {
    "collapsed": false
   },
   "outputs": [
    {
     "data": {
      "text/plain": [
       "<matplotlib.collections.PathCollection at 0x12aeb3d30>"
      ]
     },
     "execution_count": 30,
     "metadata": {},
     "output_type": "execute_result"
    },
    {
     "data": {
      "image/png": "[encoded data removed]",
      "text/plain": [
       "<matplotlib.figure.Figure at 0x12aaeaf28>"
      ]
     },
     "metadata": {},
     "output_type": "display_data"
    }
   ],
   "source": [
    "plt.scatter(data['lon'], data['lat'])"
   ]
  },
  {
   "cell_type": "code",
   "execution_count": 33,
   "metadata": {
    "collapsed": false
   },
   "outputs": [
    {
     "data": {
      "text/html": [
       "<div>\n",
       "<table border=\"1\" class=\"dataframe\">\n",
       "  <thead>\n",
       "    <tr style=\"text-align: right;\">\n",
       "      <th></th>\n",
       "      <th>gender</th>\n",
       "      <th>marital_status</th>\n",
       "      <th>job_position</th>\n",
       "      <th>tariff_id</th>\n",
       "      <th>education</th>\n",
       "      <th>age</th>\n",
       "      <th>credit_sum</th>\n",
       "      <th>credit_month</th>\n",
       "      <th>score_shk</th>\n",
       "      <th>monthly_income</th>\n",
       "      <th>lat</th>\n",
       "      <th>lon</th>\n",
       "    </tr>\n",
       "    <tr>\n",
       "      <th>client_id</th>\n",
       "      <th></th>\n",
       "      <th></th>\n",
       "      <th></th>\n",
       "      <th></th>\n",
       "      <th></th>\n",
       "      <th></th>\n",
       "      <th></th>\n",
       "      <th></th>\n",
       "      <th></th>\n",
       "      <th></th>\n",
       "      <th></th>\n",
       "      <th></th>\n",
       "    </tr>\n",
       "  </thead>\n",
       "  <tbody>\n",
       "    <tr>\n",
       "      <th>1</th>\n",
       "      <td>1</td>\n",
       "      <td>2</td>\n",
       "      <td>14</td>\n",
       "      <td>26</td>\n",
       "      <td>1</td>\n",
       "      <td>48</td>\n",
       "      <td>59998.00</td>\n",
       "      <td>10</td>\n",
       "      <td>0.770249</td>\n",
       "      <td>30000.0</td>\n",
       "      <td>45.272365</td>\n",
       "      <td>38.951409</td>\n",
       "    </tr>\n",
       "    <tr>\n",
       "      <th>2</th>\n",
       "      <td>0</td>\n",
       "      <td>2</td>\n",
       "      <td>14</td>\n",
       "      <td>1</td>\n",
       "      <td>1</td>\n",
       "      <td>28</td>\n",
       "      <td>10889.00</td>\n",
       "      <td>6</td>\n",
       "      <td>0.248514</td>\n",
       "      <td>43000.0</td>\n",
       "      <td>55.755814</td>\n",
       "      <td>37.617635</td>\n",
       "    </tr>\n",
       "    <tr>\n",
       "      <th>3</th>\n",
       "      <td>1</td>\n",
       "      <td>2</td>\n",
       "      <td>13</td>\n",
       "      <td>1</td>\n",
       "      <td>3</td>\n",
       "      <td>32</td>\n",
       "      <td>10728.00</td>\n",
       "      <td>12</td>\n",
       "      <td>0.459589</td>\n",
       "      <td>23000.0</td>\n",
       "      <td>51.578529</td>\n",
       "      <td>46.797223</td>\n",
       "    </tr>\n",
       "    <tr>\n",
       "      <th>4</th>\n",
       "      <td>0</td>\n",
       "      <td>1</td>\n",
       "      <td>13</td>\n",
       "      <td>1</td>\n",
       "      <td>1</td>\n",
       "      <td>27</td>\n",
       "      <td>12009.09</td>\n",
       "      <td>12</td>\n",
       "      <td>0.362536</td>\n",
       "      <td>17000.0</td>\n",
       "      <td>49.615821</td>\n",
       "      <td>44.151406</td>\n",
       "    </tr>\n",
       "    <tr>\n",
       "      <th>5</th>\n",
       "      <td>1</td>\n",
       "      <td>2</td>\n",
       "      <td>13</td>\n",
       "      <td>1</td>\n",
       "      <td>3</td>\n",
       "      <td>45</td>\n",
       "      <td>16908.89</td>\n",
       "      <td>10</td>\n",
       "      <td>0.421385</td>\n",
       "      <td>25000.0</td>\n",
       "      <td>54.446199</td>\n",
       "      <td>60.395641</td>\n",
       "    </tr>\n",
       "  </tbody>\n",
       "</table>\n",
       "</div>"
      ],
      "text/plain": [
       "           gender  marital_status  job_position  tariff_id  education  age  \\\n",
       "client_id                                                                    \n",
       "1               1               2            14         26          1   48   \n",
       "2               0               2            14          1          1   28   \n",
       "3               1               2            13          1          3   32   \n",
       "4               0               1            13          1          1   27   \n",
       "5               1               2            13          1          3   45   \n",
       "\n",
       "           credit_sum  credit_month  score_shk  monthly_income        lat  \\\n",
       "client_id                                                                   \n",
       "1            59998.00            10   0.770249         30000.0  45.272365   \n",
       "2            10889.00             6   0.248514         43000.0  55.755814   \n",
       "3            10728.00            12   0.459589         23000.0  51.578529   \n",
       "4            12009.09            12   0.362536         17000.0  49.615821   \n",
       "5            16908.89            10   0.421385         25000.0  54.446199   \n",
       "\n",
       "                 lon  \n",
       "client_id             \n",
       "1          38.951409  \n",
       "2          37.617635  \n",
       "3          46.797223  \n",
       "4          44.151406  \n",
       "5          60.395641  "
      ]
     },
     "execution_count": 33,
     "metadata": {},
     "output_type": "execute_result"
    }
   ],
   "source": [
    "from sklearn.preprocessing import LabelEncoder\n",
    "d = pd.DataFrame(index=data.index)\n",
    "for cat in ['gender', 'marital_status', 'job_position', 'tariff_id', 'education']:\n",
    "    d[cat] = LabelEncoder().fit_transform(data[cat])\n",
    "for cat in ['age', 'credit_sum', 'credit_month', 'score_shk', 'monthly_income']:\n",
    "    d[cat] = data[cat]\n",
    "d['lat'] = data['lat']\n",
    "d['lon'] = data['lon']\n",
    "d.head()"
   ]
  },
  {
   "cell_type": "code",
   "execution_count": 36,
   "metadata": {
    "collapsed": true
   },
   "outputs": [],
   "source": [
    "train_city = d[d['lat'].isnull() == False]\n",
    "test_city = d[d['lat'].isnull()].drop(['lat', 'lon'], axis=1)\n",
    "\n",
    "x = train_city.drop(['lon', 'lat'], axis = 1)\n",
    "y_lat = train_city['lat'] \n",
    "y_lon = train_city['lon'] "
   ]
  },
  {
   "cell_type": "code",
   "execution_count": 49,
   "metadata": {
    "collapsed": true
   },
   "outputs": [],
   "source": [
    "from sklearn.model_selection import train_test_split\n",
    "from sklearn.metrics import r2_score\n",
    "from sklearn.linear_model import LinearRegression\n",
    "from sklearn.dummy import DummyRegressor\n",
    "from sklearn.ensemble import GradientBoostingRegressor\n",
    "from sklearn.neighbors import KNeighborsRegressor\n",
    "from sklearn.ensemble import RandomForestRegressor\n",
    "\n",
    "def testRegression(clf, X, y):\n",
    "    X_train, X_test, y_train, y_test = train_test_split(X, y, test_size=0.33, random_state=42)\n",
    "    clf.fit(X_train, y_train)\n",
    "    pred = clf.predict(X_test)\n",
    "    return r2_score(y_test, pred)"
   ]
  },
  {
   "cell_type": "code",
   "execution_count": 48,
   "metadata": {
    "collapsed": false
   },
   "outputs": [
    {
     "name": "stdout",
     "output_type": "stream",
     "text": [
      "CPU times: user 58.1 s, sys: 1.35 s, total: 59.5 s\n",
      "Wall time: 1min 2s\n"
     ]
    },
    {
     "data": {
      "text/plain": [
       "0.073291946951930531"
      ]
     },
     "execution_count": 48,
     "metadata": {},
     "output_type": "execute_result"
    }
   ],
   "source": [
    "%%time\n",
    "testRegression(GradientBoostingRegressor(n_estimators=300), x, y_lat)"
   ]
  },
  {
   "cell_type": "code",
   "execution_count": 47,
   "metadata": {
    "collapsed": false
   },
   "outputs": [
    {
     "data": {
      "text/plain": [
       "0.033631836327627673"
      ]
     },
     "execution_count": 47,
     "metadata": {},
     "output_type": "execute_result"
    }
   ],
   "source": [
    "testRegression(KNeighborsRegressor(n_neighbors=100), x, y_lat)"
   ]
  },
  {
   "cell_type": "code",
   "execution_count": 44,
   "metadata": {
    "collapsed": false
   },
   "outputs": [
    {
     "data": {
      "text/plain": [
       "0.035543127801326291"
      ]
     },
     "execution_count": 44,
     "metadata": {},
     "output_type": "execute_result"
    }
   ],
   "source": [
    "testRegression(LinearRegression(normalize=True), x, y_lat)"
   ]
  },
  {
   "cell_type": "code",
   "execution_count": 51,
   "metadata": {
    "collapsed": false
   },
   "outputs": [
    {
     "name": "stdout",
     "output_type": "stream",
     "text": [
      "CPU times: user 2min 19s, sys: 4.21 s, total: 2min 23s\n",
      "Wall time: 2min 40s\n"
     ]
    },
    {
     "data": {
      "text/plain": [
       "0.0596582981094399"
      ]
     },
     "execution_count": 51,
     "metadata": {},
     "output_type": "execute_result"
    }
   ],
   "source": [
    "%%time\n",
    "testRegression(RandomForestRegressor(n_estimators=100), x, y_lat)"
   ]
  },
  {
   "cell_type": "code",
   "execution_count": 53,
   "metadata": {
    "collapsed": false
   },
   "outputs": [
    {
     "name": "stdout",
     "output_type": "stream",
     "text": [
      "CPU times: user 1min 38s, sys: 3.21 s, total: 1min 41s\n",
      "Wall time: 1min 49s\n"
     ]
    }
   ],
   "source": [
    "%%time\n",
    "clf = GradientBoostingRegressor(n_estimators=300)\n",
    "clf.fit(x, y_lat)\n",
    "lat_predict = clf.predict(test_city)"
   ]
  },
  {
   "cell_type": "code",
   "execution_count": 54,
   "metadata": {
    "collapsed": false
   },
   "outputs": [
    {
     "name": "stdout",
     "output_type": "stream",
     "text": [
      "CPU times: user 1min 38s, sys: 2.6 s, total: 1min 40s\n",
      "Wall time: 1min 55s\n"
     ]
    }
   ],
   "source": [
    "%%time\n",
    "clf = GradientBoostingRegressor(n_estimators=300)\n",
    "clf.fit(x, y_lon)\n",
    "lon_predict = clf.predict(test_city)"
   ]
  },
  {
   "cell_type": "code",
   "execution_count": 56,
   "metadata": {
    "collapsed": false
   },
   "outputs": [
    {
     "data": {
      "text/plain": [
       "<matplotlib.collections.PathCollection at 0x1111ccef0>"
      ]
     },
     "execution_count": 56,
     "metadata": {},
     "output_type": "execute_result"
    },
    {
     "data": {
      "image/png": "[encoded data removed]",
      "text/plain": [
       "<matplotlib.figure.Figure at 0x12140f780>"
      ]
     },
     "metadata": {},
     "output_type": "display_data"
    }
   ],
   "source": [
    "plt.scatter(lon_predict, lat_predict)"
   ]
  },
  {
   "cell_type": "code",
   "execution_count": 60,
   "metadata": {
    "collapsed": false
   },
   "outputs": [
    {
     "data": {
      "text/html": [
       "<div>\n",
       "<table border=\"1\" class=\"dataframe\">\n",
       "  <thead>\n",
       "    <tr style=\"text-align: right;\">\n",
       "      <th></th>\n",
       "      <th>lat</th>\n",
       "      <th>lon</th>\n",
       "    </tr>\n",
       "  </thead>\n",
       "  <tbody>\n",
       "    <tr>\n",
       "      <th>count</th>\n",
       "      <td>308.000000</td>\n",
       "      <td>308.000000</td>\n",
       "    </tr>\n",
       "    <tr>\n",
       "      <th>mean</th>\n",
       "      <td>55.467744</td>\n",
       "      <td>55.844987</td>\n",
       "    </tr>\n",
       "    <tr>\n",
       "      <th>std</th>\n",
       "      <td>1.323876</td>\n",
       "      <td>2.377630</td>\n",
       "    </tr>\n",
       "    <tr>\n",
       "      <th>min</th>\n",
       "      <td>52.007666</td>\n",
       "      <td>49.707247</td>\n",
       "    </tr>\n",
       "    <tr>\n",
       "      <th>25%</th>\n",
       "      <td>54.480774</td>\n",
       "      <td>54.296555</td>\n",
       "    </tr>\n",
       "    <tr>\n",
       "      <th>50%</th>\n",
       "      <td>55.371727</td>\n",
       "      <td>55.788364</td>\n",
       "    </tr>\n",
       "    <tr>\n",
       "      <th>75%</th>\n",
       "      <td>56.362841</td>\n",
       "      <td>57.170063</td>\n",
       "    </tr>\n",
       "    <tr>\n",
       "      <th>max</th>\n",
       "      <td>58.886846</td>\n",
       "      <td>64.688986</td>\n",
       "    </tr>\n",
       "  </tbody>\n",
       "</table>\n",
       "</div>"
      ],
      "text/plain": [
       "              lat         lon\n",
       "count  308.000000  308.000000\n",
       "mean    55.467744   55.844987\n",
       "std      1.323876    2.377630\n",
       "min     52.007666   49.707247\n",
       "25%     54.480774   54.296555\n",
       "50%     55.371727   55.788364\n",
       "75%     56.362841   57.170063\n",
       "max     58.886846   64.688986"
      ]
     },
     "execution_count": 60,
     "metadata": {},
     "output_type": "execute_result"
    }
   ],
   "source": [
    "locations_pred = pd.DataFrame(index=test_city.index)\n",
    "locations_pred['lat'] = lat_predict\n",
    "locations_pred['lon'] = lon_predict\n",
    "locations_pred.describe()"
   ]
  },
  {
   "cell_type": "code",
   "execution_count": 63,
   "metadata": {
    "collapsed": false
   },
   "outputs": [
    {
     "data": {
      "text/html": [
       "<div>\n",
       "<table border=\"1\" class=\"dataframe\">\n",
       "  <thead>\n",
       "    <tr style=\"text-align: right;\">\n",
       "      <th></th>\n",
       "      <th>lat</th>\n",
       "      <th>lon</th>\n",
       "    </tr>\n",
       "  </thead>\n",
       "  <tbody>\n",
       "    <tr>\n",
       "      <th>count</th>\n",
       "      <td>262378.000000</td>\n",
       "      <td>262378.000000</td>\n",
       "    </tr>\n",
       "    <tr>\n",
       "      <th>mean</th>\n",
       "      <td>55.350682</td>\n",
       "      <td>54.839537</td>\n",
       "    </tr>\n",
       "    <tr>\n",
       "      <th>std</th>\n",
       "      <td>5.309170</td>\n",
       "      <td>25.424647</td>\n",
       "    </tr>\n",
       "    <tr>\n",
       "      <th>min</th>\n",
       "      <td>42.869937</td>\n",
       "      <td>21.229930</td>\n",
       "    </tr>\n",
       "    <tr>\n",
       "      <th>25%</th>\n",
       "      <td>53.276350</td>\n",
       "      <td>37.617635</td>\n",
       "    </tr>\n",
       "    <tr>\n",
       "      <th>50%</th>\n",
       "      <td>55.755814</td>\n",
       "      <td>44.634151</td>\n",
       "    </tr>\n",
       "    <tr>\n",
       "      <th>75%</th>\n",
       "      <td>58.586755</td>\n",
       "      <td>61.530761</td>\n",
       "    </tr>\n",
       "    <tr>\n",
       "      <th>max</th>\n",
       "      <td>67.714212</td>\n",
       "      <td>174.432311</td>\n",
       "    </tr>\n",
       "  </tbody>\n",
       "</table>\n",
       "</div>"
      ],
      "text/plain": [
       "                 lat            lon\n",
       "count  262378.000000  262378.000000\n",
       "mean       55.350682      54.839537\n",
       "std         5.309170      25.424647\n",
       "min        42.869937      21.229930\n",
       "25%        53.276350      37.617635\n",
       "50%        55.755814      44.634151\n",
       "75%        58.586755      61.530761\n",
       "max        67.714212     174.432311"
      ]
     },
     "execution_count": 63,
     "metadata": {},
     "output_type": "execute_result"
    }
   ],
   "source": [
    "locations = pd.DataFrame(index=train_city.index)\n",
    "locations['lat'] = train_city['lat']\n",
    "locations['lon'] = train_city['lon']\n",
    "locations.describe()"
   ]
  },
  {
   "cell_type": "code",
   "execution_count": 64,
   "metadata": {
    "collapsed": false
   },
   "outputs": [
    {
     "data": {
      "text/html": [
       "<div>\n",
       "<table border=\"1\" class=\"dataframe\">\n",
       "  <thead>\n",
       "    <tr style=\"text-align: right;\">\n",
       "      <th></th>\n",
       "      <th>lat</th>\n",
       "      <th>lon</th>\n",
       "    </tr>\n",
       "  </thead>\n",
       "  <tbody>\n",
       "    <tr>\n",
       "      <th>count</th>\n",
       "      <td>262686.000000</td>\n",
       "      <td>262686.000000</td>\n",
       "    </tr>\n",
       "    <tr>\n",
       "      <th>mean</th>\n",
       "      <td>55.350819</td>\n",
       "      <td>54.840716</td>\n",
       "    </tr>\n",
       "    <tr>\n",
       "      <th>std</th>\n",
       "      <td>5.306251</td>\n",
       "      <td>25.409891</td>\n",
       "    </tr>\n",
       "    <tr>\n",
       "      <th>min</th>\n",
       "      <td>42.869937</td>\n",
       "      <td>21.229930</td>\n",
       "    </tr>\n",
       "    <tr>\n",
       "      <th>25%</th>\n",
       "      <td>53.276350</td>\n",
       "      <td>37.617635</td>\n",
       "    </tr>\n",
       "    <tr>\n",
       "      <th>50%</th>\n",
       "      <td>55.755814</td>\n",
       "      <td>44.634151</td>\n",
       "    </tr>\n",
       "    <tr>\n",
       "      <th>75%</th>\n",
       "      <td>58.586755</td>\n",
       "      <td>61.530761</td>\n",
       "    </tr>\n",
       "    <tr>\n",
       "      <th>max</th>\n",
       "      <td>67.714212</td>\n",
       "      <td>174.432311</td>\n",
       "    </tr>\n",
       "  </tbody>\n",
       "</table>\n",
       "</div>"
      ],
      "text/plain": [
       "                 lat            lon\n",
       "count  262686.000000  262686.000000\n",
       "mean       55.350819      54.840716\n",
       "std         5.306251      25.409891\n",
       "min        42.869937      21.229930\n",
       "25%        53.276350      37.617635\n",
       "50%        55.755814      44.634151\n",
       "75%        58.586755      61.530761\n",
       "max        67.714212     174.432311"
      ]
     },
     "execution_count": 64,
     "metadata": {},
     "output_type": "execute_result"
    }
   ],
   "source": [
    "locations_all = pd.concat([locations, locations_pred])\n",
    "locations_all.describe()"
   ]
  },
  {
   "cell_type": "code",
   "execution_count": 65,
   "metadata": {
    "collapsed": false
   },
   "outputs": [
    {
     "data": {
      "text/plain": [
       "<matplotlib.collections.PathCollection at 0x12aec3828>"
      ]
     },
     "execution_count": 65,
     "metadata": {},
     "output_type": "execute_result"
    },
    {
     "data": {
      "image/png": "[encoded data removed]",
      "text/plain": [
       "<matplotlib.figure.Figure at 0x112475ba8>"
      ]
     },
     "metadata": {},
     "output_type": "display_data"
    }
   ],
   "source": [
    "plt.scatter(locations_all['lon'], locations_all['lat'])"
   ]
  },
  {
   "cell_type": "code",
   "execution_count": 77,
   "metadata": {
    "collapsed": false
   },
   "outputs": [
    {
     "data": {
      "text/html": [
       "<div>\n",
       "<table border=\"1\" class=\"dataframe\">\n",
       "  <thead>\n",
       "    <tr style=\"text-align: right;\">\n",
       "      <th></th>\n",
       "      <th>age</th>\n",
       "      <th>credit_count</th>\n",
       "      <th>credit_month</th>\n",
       "      <th>credit_sum</th>\n",
       "      <th>education</th>\n",
       "      <th>gender</th>\n",
       "      <th>job_position</th>\n",
       "      <th>marital_status</th>\n",
       "      <th>monthly_income</th>\n",
       "      <th>open_account_flg</th>\n",
       "      <th>overdue_credit_count</th>\n",
       "      <th>score_shk</th>\n",
       "      <th>tariff_id</th>\n",
       "      <th>lat</th>\n",
       "      <th>lon</th>\n",
       "    </tr>\n",
       "    <tr>\n",
       "      <th>client_id</th>\n",
       "      <th></th>\n",
       "      <th></th>\n",
       "      <th></th>\n",
       "      <th></th>\n",
       "      <th></th>\n",
       "      <th></th>\n",
       "      <th></th>\n",
       "      <th></th>\n",
       "      <th></th>\n",
       "      <th></th>\n",
       "      <th></th>\n",
       "      <th></th>\n",
       "      <th></th>\n",
       "      <th></th>\n",
       "      <th></th>\n",
       "    </tr>\n",
       "  </thead>\n",
       "  <tbody>\n",
       "    <tr>\n",
       "      <th>1</th>\n",
       "      <td>48</td>\n",
       "      <td>1.0</td>\n",
       "      <td>10</td>\n",
       "      <td>59998.00</td>\n",
       "      <td>GRD</td>\n",
       "      <td>M</td>\n",
       "      <td>UMN</td>\n",
       "      <td>MAR</td>\n",
       "      <td>30000.0</td>\n",
       "      <td>0.0</td>\n",
       "      <td>1.0</td>\n",
       "      <td>0.770249</td>\n",
       "      <td>1,6</td>\n",
       "      <td>45.272365</td>\n",
       "      <td>38.951409</td>\n",
       "    </tr>\n",
       "    <tr>\n",
       "      <th>2</th>\n",
       "      <td>28</td>\n",
       "      <td>2.0</td>\n",
       "      <td>6</td>\n",
       "      <td>10889.00</td>\n",
       "      <td>GRD</td>\n",
       "      <td>F</td>\n",
       "      <td>UMN</td>\n",
       "      <td>MAR</td>\n",
       "      <td>43000.0</td>\n",
       "      <td>0.0</td>\n",
       "      <td>0.0</td>\n",
       "      <td>0.248514</td>\n",
       "      <td>1,1</td>\n",
       "      <td>55.755814</td>\n",
       "      <td>37.617635</td>\n",
       "    </tr>\n",
       "    <tr>\n",
       "      <th>3</th>\n",
       "      <td>32</td>\n",
       "      <td>5.0</td>\n",
       "      <td>12</td>\n",
       "      <td>10728.00</td>\n",
       "      <td>SCH</td>\n",
       "      <td>M</td>\n",
       "      <td>SPC</td>\n",
       "      <td>MAR</td>\n",
       "      <td>23000.0</td>\n",
       "      <td>0.0</td>\n",
       "      <td>0.0</td>\n",
       "      <td>0.459589</td>\n",
       "      <td>1,1</td>\n",
       "      <td>51.578529</td>\n",
       "      <td>46.797223</td>\n",
       "    </tr>\n",
       "    <tr>\n",
       "      <th>4</th>\n",
       "      <td>27</td>\n",
       "      <td>2.0</td>\n",
       "      <td>12</td>\n",
       "      <td>12009.09</td>\n",
       "      <td>GRD</td>\n",
       "      <td>F</td>\n",
       "      <td>SPC</td>\n",
       "      <td>DIV</td>\n",
       "      <td>17000.0</td>\n",
       "      <td>0.0</td>\n",
       "      <td>0.0</td>\n",
       "      <td>0.362536</td>\n",
       "      <td>1,1</td>\n",
       "      <td>49.615821</td>\n",
       "      <td>44.151406</td>\n",
       "    </tr>\n",
       "    <tr>\n",
       "      <th>5</th>\n",
       "      <td>45</td>\n",
       "      <td>1.0</td>\n",
       "      <td>10</td>\n",
       "      <td>16908.89</td>\n",
       "      <td>SCH</td>\n",
       "      <td>M</td>\n",
       "      <td>SPC</td>\n",
       "      <td>MAR</td>\n",
       "      <td>25000.0</td>\n",
       "      <td>0.0</td>\n",
       "      <td>0.0</td>\n",
       "      <td>0.421385</td>\n",
       "      <td>1,1</td>\n",
       "      <td>54.446199</td>\n",
       "      <td>60.395641</td>\n",
       "    </tr>\n",
       "  </tbody>\n",
       "</table>\n",
       "</div>"
      ],
      "text/plain": [
       "           age  credit_count  credit_month  credit_sum education gender  \\\n",
       "client_id                                                                 \n",
       "1           48           1.0            10    59998.00       GRD      M   \n",
       "2           28           2.0             6    10889.00       GRD      F   \n",
       "3           32           5.0            12    10728.00       SCH      M   \n",
       "4           27           2.0            12    12009.09       GRD      F   \n",
       "5           45           1.0            10    16908.89       SCH      M   \n",
       "\n",
       "          job_position marital_status  monthly_income  open_account_flg  \\\n",
       "client_id                                                                 \n",
       "1                  UMN            MAR         30000.0               0.0   \n",
       "2                  UMN            MAR         43000.0               0.0   \n",
       "3                  SPC            MAR         23000.0               0.0   \n",
       "4                  SPC            DIV         17000.0               0.0   \n",
       "5                  SPC            MAR         25000.0               0.0   \n",
       "\n",
       "           overdue_credit_count  score_shk tariff_id        lat        lon  \n",
       "client_id                                                                   \n",
       "1                           1.0   0.770249       1,6  45.272365  38.951409  \n",
       "2                           0.0   0.248514       1,1  55.755814  37.617635  \n",
       "3                           0.0   0.459589       1,1  51.578529  46.797223  \n",
       "4                           0.0   0.362536       1,1  49.615821  44.151406  \n",
       "5                           0.0   0.421385       1,1  54.446199  60.395641  "
      ]
     },
     "execution_count": 77,
     "metadata": {},
     "output_type": "execute_result"
    }
   ],
   "source": [
    "full_data = pd.concat([all_data, locations_all], axis = 1).drop(['living_region'], axis = 1)\n",
    "full_data.head()"
   ]
  },
  {
   "cell_type": "code",
   "execution_count": 78,
   "metadata": {
    "collapsed": false
   },
   "outputs": [
    {
     "data": {
      "text/plain": [
       "age                     262686\n",
       "credit_count            248753\n",
       "credit_month            262686\n",
       "credit_sum              262686\n",
       "education               262686\n",
       "gender                  262686\n",
       "job_position            262686\n",
       "marital_status          262686\n",
       "monthly_income          262686\n",
       "open_account_flg        170746\n",
       "overdue_credit_count    248753\n",
       "score_shk               262686\n",
       "tariff_id               262686\n",
       "lat                     262686\n",
       "lon                     262686\n",
       "dtype: int64"
      ]
     },
     "execution_count": 78,
     "metadata": {},
     "output_type": "execute_result"
    }
   ],
   "source": [
    "full_data.count()"
   ]
  },
  {
   "cell_type": "code",
   "execution_count": 80,
   "metadata": {
    "collapsed": true
   },
   "outputs": [],
   "source": [
    "data = pd.get_dummies(data=full_data, columns=['gender', 'marital_status', 'job_position', 'tariff_id', 'education']).drop(['open_account_flg'], axis=1)\n",
    "train_credit = data[data['credit_count'].isnull() == False]\n",
    "test_credit = data[data['credit_count'].isnull()].drop(['credit_count', 'overdue_credit_count'], axis = 1)\n",
    "\n",
    "x_train_credit = train_credit.drop(['credit_count', 'overdue_credit_count'], axis = 1)\n",
    "\n",
    "y_train_credit_count = train_credit['credit_count']\n",
    "y_train_credit_overdue = train_credit['overdue_credit_count']"
   ]
  },
  {
   "cell_type": "code",
   "execution_count": 82,
   "metadata": {
    "collapsed": false
   },
   "outputs": [
    {
     "name": "stdout",
     "output_type": "stream",
     "text": [
      "CPU times: user 2min 35s, sys: 3.6 s, total: 2min 38s\n",
      "Wall time: 3min 3s\n"
     ]
    },
    {
     "data": {
      "text/plain": [
       "0.085616468608277208"
      ]
     },
     "execution_count": 82,
     "metadata": {},
     "output_type": "execute_result"
    }
   ],
   "source": [
    "%%time\n",
    "testRegression(GradientBoostingRegressor(n_estimators=300), x_train_credit, y_train_credit_count)"
   ]
  },
  {
   "cell_type": "code",
   "execution_count": 83,
   "metadata": {
    "collapsed": true
   },
   "outputs": [],
   "source": [
    "def predict(clf, X, y, test_x):\n",
    "    clf.fit(X, y)\n",
    "    return clf.predict(test_x)"
   ]
  },
  {
   "cell_type": "code",
   "execution_count": 84,
   "metadata": {
    "collapsed": false
   },
   "outputs": [
    {
     "name": "stdout",
     "output_type": "stream",
     "text": [
      "[ 0.00056109  0.24113425  0.12167369 ...,  0.05816883  0.01022093\n",
      "  0.06397705]\n",
      "[ 1.24830878  2.44596279  2.34907192 ...,  1.11048832  2.25762509\n",
      "  1.58536088]\n"
     ]
    }
   ],
   "source": [
    "pred_credit_overdue = predict(GradientBoostingRegressor(n_estimators=300), x_train_credit, y_train_credit_overdue, test_credit)\n",
    "print(pred_credit_overdue)\n",
    "pred_credit_count = predict(GradientBoostingRegressor(n_estimators=300), x_train_credit, y_train_credit_count, test_credit)\n",
    "print(pred_credit_count)"
   ]
  },
  {
   "cell_type": "code",
   "execution_count": 85,
   "metadata": {
    "collapsed": false
   },
   "outputs": [
    {
     "data": {
      "text/html": [
       "<div>\n",
       "<table border=\"1\" class=\"dataframe\">\n",
       "  <thead>\n",
       "    <tr style=\"text-align: right;\">\n",
       "      <th></th>\n",
       "      <th>overdue_credit_count</th>\n",
       "      <th>credit_count</th>\n",
       "    </tr>\n",
       "    <tr>\n",
       "      <th>client_id</th>\n",
       "      <th></th>\n",
       "      <th></th>\n",
       "    </tr>\n",
       "  </thead>\n",
       "  <tbody>\n",
       "    <tr>\n",
       "      <th>26</th>\n",
       "      <td>0.000561</td>\n",
       "      <td>1.248309</td>\n",
       "    </tr>\n",
       "    <tr>\n",
       "      <th>51</th>\n",
       "      <td>0.241134</td>\n",
       "      <td>2.445963</td>\n",
       "    </tr>\n",
       "    <tr>\n",
       "      <th>53</th>\n",
       "      <td>0.121674</td>\n",
       "      <td>2.349072</td>\n",
       "    </tr>\n",
       "    <tr>\n",
       "      <th>73</th>\n",
       "      <td>0.000000</td>\n",
       "      <td>1.085428</td>\n",
       "    </tr>\n",
       "    <tr>\n",
       "      <th>75</th>\n",
       "      <td>0.052804</td>\n",
       "      <td>1.218305</td>\n",
       "    </tr>\n",
       "  </tbody>\n",
       "</table>\n",
       "</div>"
      ],
      "text/plain": [
       "           overdue_credit_count  credit_count\n",
       "client_id                                    \n",
       "26                     0.000561      1.248309\n",
       "51                     0.241134      2.445963\n",
       "53                     0.121674      2.349072\n",
       "73                     0.000000      1.085428\n",
       "75                     0.052804      1.218305"
      ]
     },
     "execution_count": 85,
     "metadata": {},
     "output_type": "execute_result"
    }
   ],
   "source": [
    "credit_pred = pd.DataFrame(index=test_credit.index)\n",
    "credit_pred['overdue_credit_count'] = pred_credit_overdue\n",
    "credit_pred['credit_count'] = pred_credit_count\n",
    "credit_pred[credit_pred < 0] = 0\n",
    "credit_pred.head()"
   ]
  },
  {
   "cell_type": "code",
   "execution_count": 86,
   "metadata": {
    "collapsed": false
   },
   "outputs": [
    {
     "data": {
      "text/html": [
       "<div>\n",
       "<table border=\"1\" class=\"dataframe\">\n",
       "  <thead>\n",
       "    <tr style=\"text-align: right;\">\n",
       "      <th></th>\n",
       "      <th>overdue_credit_count</th>\n",
       "      <th>credit_count</th>\n",
       "    </tr>\n",
       "    <tr>\n",
       "      <th>client_id</th>\n",
       "      <th></th>\n",
       "      <th></th>\n",
       "    </tr>\n",
       "  </thead>\n",
       "  <tbody>\n",
       "    <tr>\n",
       "      <th>1</th>\n",
       "      <td>1.0</td>\n",
       "      <td>1.0</td>\n",
       "    </tr>\n",
       "    <tr>\n",
       "      <th>2</th>\n",
       "      <td>0.0</td>\n",
       "      <td>2.0</td>\n",
       "    </tr>\n",
       "    <tr>\n",
       "      <th>3</th>\n",
       "      <td>0.0</td>\n",
       "      <td>5.0</td>\n",
       "    </tr>\n",
       "    <tr>\n",
       "      <th>4</th>\n",
       "      <td>0.0</td>\n",
       "      <td>2.0</td>\n",
       "    </tr>\n",
       "    <tr>\n",
       "      <th>5</th>\n",
       "      <td>0.0</td>\n",
       "      <td>1.0</td>\n",
       "    </tr>\n",
       "  </tbody>\n",
       "</table>\n",
       "</div>"
      ],
      "text/plain": [
       "           overdue_credit_count  credit_count\n",
       "client_id                                    \n",
       "1                           1.0           1.0\n",
       "2                           0.0           2.0\n",
       "3                           0.0           5.0\n",
       "4                           0.0           2.0\n",
       "5                           0.0           1.0"
      ]
     },
     "execution_count": 86,
     "metadata": {},
     "output_type": "execute_result"
    }
   ],
   "source": [
    "credit = pd.DataFrame(index=train_credit.index)\n",
    "credit['overdue_credit_count'] = train_credit['overdue_credit_count']\n",
    "credit['credit_count'] = train_credit['credit_count']\n",
    "credit.head()"
   ]
  },
  {
   "cell_type": "code",
   "execution_count": 87,
   "metadata": {
    "collapsed": false
   },
   "outputs": [
    {
     "data": {
      "text/html": [
       "<div>\n",
       "<table border=\"1\" class=\"dataframe\">\n",
       "  <thead>\n",
       "    <tr style=\"text-align: right;\">\n",
       "      <th></th>\n",
       "      <th>overdue_credit_count</th>\n",
       "      <th>credit_count</th>\n",
       "    </tr>\n",
       "  </thead>\n",
       "  <tbody>\n",
       "    <tr>\n",
       "      <th>count</th>\n",
       "      <td>262686.000000</td>\n",
       "      <td>262686.000000</td>\n",
       "    </tr>\n",
       "    <tr>\n",
       "      <th>mean</th>\n",
       "      <td>0.045915</td>\n",
       "      <td>2.072175</td>\n",
       "    </tr>\n",
       "    <tr>\n",
       "      <th>std</th>\n",
       "      <td>0.206077</td>\n",
       "      <td>1.738229</td>\n",
       "    </tr>\n",
       "    <tr>\n",
       "      <th>min</th>\n",
       "      <td>0.000000</td>\n",
       "      <td>0.000000</td>\n",
       "    </tr>\n",
       "    <tr>\n",
       "      <th>25%</th>\n",
       "      <td>0.000000</td>\n",
       "      <td>1.000000</td>\n",
       "    </tr>\n",
       "    <tr>\n",
       "      <th>50%</th>\n",
       "      <td>0.000000</td>\n",
       "      <td>2.000000</td>\n",
       "    </tr>\n",
       "    <tr>\n",
       "      <th>75%</th>\n",
       "      <td>0.000000</td>\n",
       "      <td>3.000000</td>\n",
       "    </tr>\n",
       "    <tr>\n",
       "      <th>max</th>\n",
       "      <td>3.000000</td>\n",
       "      <td>22.000000</td>\n",
       "    </tr>\n",
       "  </tbody>\n",
       "</table>\n",
       "</div>"
      ],
      "text/plain": [
       "       overdue_credit_count   credit_count\n",
       "count         262686.000000  262686.000000\n",
       "mean               0.045915       2.072175\n",
       "std                0.206077       1.738229\n",
       "min                0.000000       0.000000\n",
       "25%                0.000000       1.000000\n",
       "50%                0.000000       2.000000\n",
       "75%                0.000000       3.000000\n",
       "max                3.000000      22.000000"
      ]
     },
     "execution_count": 87,
     "metadata": {},
     "output_type": "execute_result"
    }
   ],
   "source": [
    "all_credit = pd.concat([credit, credit_pred])\n",
    "all_credit.describe()"
   ]
  },
  {
   "cell_type": "code",
   "execution_count": 88,
   "metadata": {
    "collapsed": false
   },
   "outputs": [
    {
     "data": {
      "text/html": [
       "<div>\n",
       "<table border=\"1\" class=\"dataframe\">\n",
       "  <thead>\n",
       "    <tr style=\"text-align: right;\">\n",
       "      <th></th>\n",
       "      <th>age</th>\n",
       "      <th>credit_month</th>\n",
       "      <th>credit_sum</th>\n",
       "      <th>education</th>\n",
       "      <th>gender</th>\n",
       "      <th>job_position</th>\n",
       "      <th>marital_status</th>\n",
       "      <th>monthly_income</th>\n",
       "      <th>open_account_flg</th>\n",
       "      <th>score_shk</th>\n",
       "      <th>tariff_id</th>\n",
       "      <th>lat</th>\n",
       "      <th>lon</th>\n",
       "      <th>overdue_credit_count</th>\n",
       "      <th>credit_count</th>\n",
       "    </tr>\n",
       "    <tr>\n",
       "      <th>client_id</th>\n",
       "      <th></th>\n",
       "      <th></th>\n",
       "      <th></th>\n",
       "      <th></th>\n",
       "      <th></th>\n",
       "      <th></th>\n",
       "      <th></th>\n",
       "      <th></th>\n",
       "      <th></th>\n",
       "      <th></th>\n",
       "      <th></th>\n",
       "      <th></th>\n",
       "      <th></th>\n",
       "      <th></th>\n",
       "      <th></th>\n",
       "    </tr>\n",
       "  </thead>\n",
       "  <tbody>\n",
       "    <tr>\n",
       "      <th>1</th>\n",
       "      <td>48</td>\n",
       "      <td>10</td>\n",
       "      <td>59998.00</td>\n",
       "      <td>GRD</td>\n",
       "      <td>M</td>\n",
       "      <td>UMN</td>\n",
       "      <td>MAR</td>\n",
       "      <td>30000.0</td>\n",
       "      <td>0.0</td>\n",
       "      <td>0.770249</td>\n",
       "      <td>1,6</td>\n",
       "      <td>45.272365</td>\n",
       "      <td>38.951409</td>\n",
       "      <td>1.0</td>\n",
       "      <td>1.0</td>\n",
       "    </tr>\n",
       "    <tr>\n",
       "      <th>2</th>\n",
       "      <td>28</td>\n",
       "      <td>6</td>\n",
       "      <td>10889.00</td>\n",
       "      <td>GRD</td>\n",
       "      <td>F</td>\n",
       "      <td>UMN</td>\n",
       "      <td>MAR</td>\n",
       "      <td>43000.0</td>\n",
       "      <td>0.0</td>\n",
       "      <td>0.248514</td>\n",
       "      <td>1,1</td>\n",
       "      <td>55.755814</td>\n",
       "      <td>37.617635</td>\n",
       "      <td>0.0</td>\n",
       "      <td>2.0</td>\n",
       "    </tr>\n",
       "    <tr>\n",
       "      <th>3</th>\n",
       "      <td>32</td>\n",
       "      <td>12</td>\n",
       "      <td>10728.00</td>\n",
       "      <td>SCH</td>\n",
       "      <td>M</td>\n",
       "      <td>SPC</td>\n",
       "      <td>MAR</td>\n",
       "      <td>23000.0</td>\n",
       "      <td>0.0</td>\n",
       "      <td>0.459589</td>\n",
       "      <td>1,1</td>\n",
       "      <td>51.578529</td>\n",
       "      <td>46.797223</td>\n",
       "      <td>0.0</td>\n",
       "      <td>5.0</td>\n",
       "    </tr>\n",
       "    <tr>\n",
       "      <th>4</th>\n",
       "      <td>27</td>\n",
       "      <td>12</td>\n",
       "      <td>12009.09</td>\n",
       "      <td>GRD</td>\n",
       "      <td>F</td>\n",
       "      <td>SPC</td>\n",
       "      <td>DIV</td>\n",
       "      <td>17000.0</td>\n",
       "      <td>0.0</td>\n",
       "      <td>0.362536</td>\n",
       "      <td>1,1</td>\n",
       "      <td>49.615821</td>\n",
       "      <td>44.151406</td>\n",
       "      <td>0.0</td>\n",
       "      <td>2.0</td>\n",
       "    </tr>\n",
       "    <tr>\n",
       "      <th>5</th>\n",
       "      <td>45</td>\n",
       "      <td>10</td>\n",
       "      <td>16908.89</td>\n",
       "      <td>SCH</td>\n",
       "      <td>M</td>\n",
       "      <td>SPC</td>\n",
       "      <td>MAR</td>\n",
       "      <td>25000.0</td>\n",
       "      <td>0.0</td>\n",
       "      <td>0.421385</td>\n",
       "      <td>1,1</td>\n",
       "      <td>54.446199</td>\n",
       "      <td>60.395641</td>\n",
       "      <td>0.0</td>\n",
       "      <td>1.0</td>\n",
       "    </tr>\n",
       "  </tbody>\n",
       "</table>\n",
       "</div>"
      ],
      "text/plain": [
       "           age  credit_month  credit_sum education gender job_position  \\\n",
       "client_id                                                                \n",
       "1           48            10    59998.00       GRD      M          UMN   \n",
       "2           28             6    10889.00       GRD      F          UMN   \n",
       "3           32            12    10728.00       SCH      M          SPC   \n",
       "4           27            12    12009.09       GRD      F          SPC   \n",
       "5           45            10    16908.89       SCH      M          SPC   \n",
       "\n",
       "          marital_status  monthly_income  open_account_flg  score_shk  \\\n",
       "client_id                                                               \n",
       "1                    MAR         30000.0               0.0   0.770249   \n",
       "2                    MAR         43000.0               0.0   0.248514   \n",
       "3                    MAR         23000.0               0.0   0.459589   \n",
       "4                    DIV         17000.0               0.0   0.362536   \n",
       "5                    MAR         25000.0               0.0   0.421385   \n",
       "\n",
       "          tariff_id        lat        lon  overdue_credit_count  credit_count  \n",
       "client_id                                                                      \n",
       "1               1,6  45.272365  38.951409                   1.0           1.0  \n",
       "2               1,1  55.755814  37.617635                   0.0           2.0  \n",
       "3               1,1  51.578529  46.797223                   0.0           5.0  \n",
       "4               1,1  49.615821  44.151406                   0.0           2.0  \n",
       "5               1,1  54.446199  60.395641                   0.0           1.0  "
      ]
     },
     "execution_count": 88,
     "metadata": {},
     "output_type": "execute_result"
    }
   ],
   "source": [
    "entire_all_data_full = pd.concat([full_data.drop(['overdue_credit_count', 'credit_count'], axis = 1),all_credit], axis = 1)\n",
    "entire_all_data_full.head()"
   ]
  },
  {
   "cell_type": "code",
   "execution_count": 89,
   "metadata": {
    "collapsed": false
   },
   "outputs": [
    {
     "data": {
      "text/plain": [
       "age                     262686\n",
       "credit_month            262686\n",
       "credit_sum              262686\n",
       "education               262686\n",
       "gender                  262686\n",
       "job_position            262686\n",
       "marital_status          262686\n",
       "monthly_income          262686\n",
       "open_account_flg        170746\n",
       "score_shk               262686\n",
       "tariff_id               262686\n",
       "lat                     262686\n",
       "lon                     262686\n",
       "overdue_credit_count    262686\n",
       "credit_count            262686\n",
       "dtype: int64"
      ]
     },
     "execution_count": 89,
     "metadata": {},
     "output_type": "execute_result"
    }
   ],
   "source": [
    "entire_all_data_full.count()"
   ]
  },
  {
   "cell_type": "code",
   "execution_count": 90,
   "metadata": {
    "collapsed": true
   },
   "outputs": [],
   "source": [
    "entire_all_data_full.ix[train.index].to_csv('data/credit_train_clean_loc.csv.zip', compression='gzip')\n",
    "entire_all_data_full.ix[test.index].to_csv('data/credit_test_clean_loc.csv.zip', compression='gzip')"
   ]
  }
 ],
 "metadata": {
  "kernelspec": {
   "display_name": "Python 3",
   "language": "python",
   "name": "python3"
  },
  "language_info": {
   "codemirror_mode": {
    "name": "ipython",
    "version": 3
   },
   "file_extension": ".py",
   "mimetype": "text/x-python",
   "name": "python",
   "nbconvert_exporter": "python",
   "pygments_lexer": "ipython3",
   "version": "3.5.2"
  }
 },
 "nbformat": 4,
 "nbformat_minor": 0
}
